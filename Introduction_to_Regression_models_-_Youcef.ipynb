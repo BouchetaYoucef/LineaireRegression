{
 "cells": [
  {
   "cell_type": "markdown",
   "id": "precious-softball",
   "metadata": {},
   "source": [
    "# Introduction to regression models"
   ]
  },
  {
   "cell_type": "markdown",
   "id": "joint-footage",
   "metadata": {},
   "source": [
    "Import relevant libraries"
   ]
  },
  {
   "cell_type": "code",
   "execution_count": 80,
   "id": "aggregate-ability",
   "metadata": {},
   "outputs": [],
   "source": [
    "import numpy as np\n",
    "import pandas as pd\n",
    "import matplotlib.pyplot as plt\n",
    "import seaborn as sns"
   ]
  },
  {
   "cell_type": "markdown",
   "id": "unavailable-spyware",
   "metadata": {},
   "source": [
    "## Load data"
   ]
  },
  {
   "cell_type": "code",
   "execution_count": 81,
   "id": "dedicated-fleece",
   "metadata": {},
   "outputs": [],
   "source": [
    "wine_df = pd.read_csv('https://archive.ics.uci.edu/ml/machine-learning-databases/wine-quality/winequality-red.csv', delimiter=';')"
   ]
  },
  {
   "cell_type": "code",
   "execution_count": 82,
   "id": "continental-function",
   "metadata": {},
   "outputs": [
    {
     "data": {
      "text/html": [
       "<div>\n",
       "<style scoped>\n",
       "    .dataframe tbody tr th:only-of-type {\n",
       "        vertical-align: middle;\n",
       "    }\n",
       "\n",
       "    .dataframe tbody tr th {\n",
       "        vertical-align: top;\n",
       "    }\n",
       "\n",
       "    .dataframe thead th {\n",
       "        text-align: right;\n",
       "    }\n",
       "</style>\n",
       "<table border=\"1\" class=\"dataframe\">\n",
       "  <thead>\n",
       "    <tr style=\"text-align: right;\">\n",
       "      <th></th>\n",
       "      <th>fixed acidity</th>\n",
       "      <th>volatile acidity</th>\n",
       "      <th>citric acid</th>\n",
       "      <th>residual sugar</th>\n",
       "      <th>chlorides</th>\n",
       "      <th>free sulfur dioxide</th>\n",
       "      <th>total sulfur dioxide</th>\n",
       "      <th>density</th>\n",
       "      <th>pH</th>\n",
       "      <th>sulphates</th>\n",
       "      <th>alcohol</th>\n",
       "      <th>quality</th>\n",
       "    </tr>\n",
       "  </thead>\n",
       "  <tbody>\n",
       "    <tr>\n",
       "      <th>0</th>\n",
       "      <td>7.4</td>\n",
       "      <td>0.700</td>\n",
       "      <td>0.00</td>\n",
       "      <td>1.9</td>\n",
       "      <td>0.076</td>\n",
       "      <td>11.0</td>\n",
       "      <td>34.0</td>\n",
       "      <td>0.99780</td>\n",
       "      <td>3.51</td>\n",
       "      <td>0.56</td>\n",
       "      <td>9.4</td>\n",
       "      <td>5</td>\n",
       "    </tr>\n",
       "    <tr>\n",
       "      <th>1</th>\n",
       "      <td>7.8</td>\n",
       "      <td>0.880</td>\n",
       "      <td>0.00</td>\n",
       "      <td>2.6</td>\n",
       "      <td>0.098</td>\n",
       "      <td>25.0</td>\n",
       "      <td>67.0</td>\n",
       "      <td>0.99680</td>\n",
       "      <td>3.20</td>\n",
       "      <td>0.68</td>\n",
       "      <td>9.8</td>\n",
       "      <td>5</td>\n",
       "    </tr>\n",
       "    <tr>\n",
       "      <th>2</th>\n",
       "      <td>7.8</td>\n",
       "      <td>0.760</td>\n",
       "      <td>0.04</td>\n",
       "      <td>2.3</td>\n",
       "      <td>0.092</td>\n",
       "      <td>15.0</td>\n",
       "      <td>54.0</td>\n",
       "      <td>0.99700</td>\n",
       "      <td>3.26</td>\n",
       "      <td>0.65</td>\n",
       "      <td>9.8</td>\n",
       "      <td>5</td>\n",
       "    </tr>\n",
       "    <tr>\n",
       "      <th>3</th>\n",
       "      <td>11.2</td>\n",
       "      <td>0.280</td>\n",
       "      <td>0.56</td>\n",
       "      <td>1.9</td>\n",
       "      <td>0.075</td>\n",
       "      <td>17.0</td>\n",
       "      <td>60.0</td>\n",
       "      <td>0.99800</td>\n",
       "      <td>3.16</td>\n",
       "      <td>0.58</td>\n",
       "      <td>9.8</td>\n",
       "      <td>6</td>\n",
       "    </tr>\n",
       "    <tr>\n",
       "      <th>4</th>\n",
       "      <td>7.4</td>\n",
       "      <td>0.700</td>\n",
       "      <td>0.00</td>\n",
       "      <td>1.9</td>\n",
       "      <td>0.076</td>\n",
       "      <td>11.0</td>\n",
       "      <td>34.0</td>\n",
       "      <td>0.99780</td>\n",
       "      <td>3.51</td>\n",
       "      <td>0.56</td>\n",
       "      <td>9.4</td>\n",
       "      <td>5</td>\n",
       "    </tr>\n",
       "    <tr>\n",
       "      <th>...</th>\n",
       "      <td>...</td>\n",
       "      <td>...</td>\n",
       "      <td>...</td>\n",
       "      <td>...</td>\n",
       "      <td>...</td>\n",
       "      <td>...</td>\n",
       "      <td>...</td>\n",
       "      <td>...</td>\n",
       "      <td>...</td>\n",
       "      <td>...</td>\n",
       "      <td>...</td>\n",
       "      <td>...</td>\n",
       "    </tr>\n",
       "    <tr>\n",
       "      <th>1594</th>\n",
       "      <td>6.2</td>\n",
       "      <td>0.600</td>\n",
       "      <td>0.08</td>\n",
       "      <td>2.0</td>\n",
       "      <td>0.090</td>\n",
       "      <td>32.0</td>\n",
       "      <td>44.0</td>\n",
       "      <td>0.99490</td>\n",
       "      <td>3.45</td>\n",
       "      <td>0.58</td>\n",
       "      <td>10.5</td>\n",
       "      <td>5</td>\n",
       "    </tr>\n",
       "    <tr>\n",
       "      <th>1595</th>\n",
       "      <td>5.9</td>\n",
       "      <td>0.550</td>\n",
       "      <td>0.10</td>\n",
       "      <td>2.2</td>\n",
       "      <td>0.062</td>\n",
       "      <td>39.0</td>\n",
       "      <td>51.0</td>\n",
       "      <td>0.99512</td>\n",
       "      <td>3.52</td>\n",
       "      <td>0.76</td>\n",
       "      <td>11.2</td>\n",
       "      <td>6</td>\n",
       "    </tr>\n",
       "    <tr>\n",
       "      <th>1596</th>\n",
       "      <td>6.3</td>\n",
       "      <td>0.510</td>\n",
       "      <td>0.13</td>\n",
       "      <td>2.3</td>\n",
       "      <td>0.076</td>\n",
       "      <td>29.0</td>\n",
       "      <td>40.0</td>\n",
       "      <td>0.99574</td>\n",
       "      <td>3.42</td>\n",
       "      <td>0.75</td>\n",
       "      <td>11.0</td>\n",
       "      <td>6</td>\n",
       "    </tr>\n",
       "    <tr>\n",
       "      <th>1597</th>\n",
       "      <td>5.9</td>\n",
       "      <td>0.645</td>\n",
       "      <td>0.12</td>\n",
       "      <td>2.0</td>\n",
       "      <td>0.075</td>\n",
       "      <td>32.0</td>\n",
       "      <td>44.0</td>\n",
       "      <td>0.99547</td>\n",
       "      <td>3.57</td>\n",
       "      <td>0.71</td>\n",
       "      <td>10.2</td>\n",
       "      <td>5</td>\n",
       "    </tr>\n",
       "    <tr>\n",
       "      <th>1598</th>\n",
       "      <td>6.0</td>\n",
       "      <td>0.310</td>\n",
       "      <td>0.47</td>\n",
       "      <td>3.6</td>\n",
       "      <td>0.067</td>\n",
       "      <td>18.0</td>\n",
       "      <td>42.0</td>\n",
       "      <td>0.99549</td>\n",
       "      <td>3.39</td>\n",
       "      <td>0.66</td>\n",
       "      <td>11.0</td>\n",
       "      <td>6</td>\n",
       "    </tr>\n",
       "  </tbody>\n",
       "</table>\n",
       "<p>1599 rows × 12 columns</p>\n",
       "</div>"
      ],
      "text/plain": [
       "      fixed acidity  volatile acidity  citric acid  residual sugar  chlorides  \\\n",
       "0               7.4             0.700         0.00             1.9      0.076   \n",
       "1               7.8             0.880         0.00             2.6      0.098   \n",
       "2               7.8             0.760         0.04             2.3      0.092   \n",
       "3              11.2             0.280         0.56             1.9      0.075   \n",
       "4               7.4             0.700         0.00             1.9      0.076   \n",
       "...             ...               ...          ...             ...        ...   \n",
       "1594            6.2             0.600         0.08             2.0      0.090   \n",
       "1595            5.9             0.550         0.10             2.2      0.062   \n",
       "1596            6.3             0.510         0.13             2.3      0.076   \n",
       "1597            5.9             0.645         0.12             2.0      0.075   \n",
       "1598            6.0             0.310         0.47             3.6      0.067   \n",
       "\n",
       "      free sulfur dioxide  total sulfur dioxide  density    pH  sulphates  \\\n",
       "0                    11.0                  34.0  0.99780  3.51       0.56   \n",
       "1                    25.0                  67.0  0.99680  3.20       0.68   \n",
       "2                    15.0                  54.0  0.99700  3.26       0.65   \n",
       "3                    17.0                  60.0  0.99800  3.16       0.58   \n",
       "4                    11.0                  34.0  0.99780  3.51       0.56   \n",
       "...                   ...                   ...      ...   ...        ...   \n",
       "1594                 32.0                  44.0  0.99490  3.45       0.58   \n",
       "1595                 39.0                  51.0  0.99512  3.52       0.76   \n",
       "1596                 29.0                  40.0  0.99574  3.42       0.75   \n",
       "1597                 32.0                  44.0  0.99547  3.57       0.71   \n",
       "1598                 18.0                  42.0  0.99549  3.39       0.66   \n",
       "\n",
       "      alcohol  quality  \n",
       "0         9.4        5  \n",
       "1         9.8        5  \n",
       "2         9.8        5  \n",
       "3         9.8        6  \n",
       "4         9.4        5  \n",
       "...       ...      ...  \n",
       "1594     10.5        5  \n",
       "1595     11.2        6  \n",
       "1596     11.0        6  \n",
       "1597     10.2        5  \n",
       "1598     11.0        6  \n",
       "\n",
       "[1599 rows x 12 columns]"
      ]
     },
     "execution_count": 82,
     "metadata": {},
     "output_type": "execute_result"
    }
   ],
   "source": [
    "wine_df"
   ]
  },
  {
   "cell_type": "markdown",
   "id": "selective-marks",
   "metadata": {},
   "source": [
    "Get 100 samples with random state (seed) = 1"
   ]
  },
  {
   "cell_type": "code",
   "execution_count": 83,
   "id": "infrared-bulgarian",
   "metadata": {},
   "outputs": [
    {
     "data": {
      "text/html": [
       "<div>\n",
       "<style scoped>\n",
       "    .dataframe tbody tr th:only-of-type {\n",
       "        vertical-align: middle;\n",
       "    }\n",
       "\n",
       "    .dataframe tbody tr th {\n",
       "        vertical-align: top;\n",
       "    }\n",
       "\n",
       "    .dataframe thead th {\n",
       "        text-align: right;\n",
       "    }\n",
       "</style>\n",
       "<table border=\"1\" class=\"dataframe\">\n",
       "  <thead>\n",
       "    <tr style=\"text-align: right;\">\n",
       "      <th></th>\n",
       "      <th>fixed acidity</th>\n",
       "      <th>volatile acidity</th>\n",
       "      <th>citric acid</th>\n",
       "      <th>residual sugar</th>\n",
       "      <th>chlorides</th>\n",
       "      <th>free sulfur dioxide</th>\n",
       "      <th>total sulfur dioxide</th>\n",
       "      <th>density</th>\n",
       "      <th>pH</th>\n",
       "      <th>sulphates</th>\n",
       "      <th>alcohol</th>\n",
       "      <th>quality</th>\n",
       "    </tr>\n",
       "  </thead>\n",
       "  <tbody>\n",
       "    <tr>\n",
       "      <th>75</th>\n",
       "      <td>8.8</td>\n",
       "      <td>0.410</td>\n",
       "      <td>0.64</td>\n",
       "      <td>2.2</td>\n",
       "      <td>0.093</td>\n",
       "      <td>9.0</td>\n",
       "      <td>42.0</td>\n",
       "      <td>0.99860</td>\n",
       "      <td>3.54</td>\n",
       "      <td>0.66</td>\n",
       "      <td>10.5</td>\n",
       "      <td>5</td>\n",
       "    </tr>\n",
       "    <tr>\n",
       "      <th>1283</th>\n",
       "      <td>8.7</td>\n",
       "      <td>0.630</td>\n",
       "      <td>0.28</td>\n",
       "      <td>2.7</td>\n",
       "      <td>0.096</td>\n",
       "      <td>17.0</td>\n",
       "      <td>69.0</td>\n",
       "      <td>0.99734</td>\n",
       "      <td>3.26</td>\n",
       "      <td>0.63</td>\n",
       "      <td>10.2</td>\n",
       "      <td>6</td>\n",
       "    </tr>\n",
       "    <tr>\n",
       "      <th>408</th>\n",
       "      <td>10.4</td>\n",
       "      <td>0.340</td>\n",
       "      <td>0.58</td>\n",
       "      <td>3.7</td>\n",
       "      <td>0.174</td>\n",
       "      <td>6.0</td>\n",
       "      <td>16.0</td>\n",
       "      <td>0.99700</td>\n",
       "      <td>3.19</td>\n",
       "      <td>0.70</td>\n",
       "      <td>11.3</td>\n",
       "      <td>6</td>\n",
       "    </tr>\n",
       "    <tr>\n",
       "      <th>1281</th>\n",
       "      <td>7.1</td>\n",
       "      <td>0.460</td>\n",
       "      <td>0.20</td>\n",
       "      <td>1.9</td>\n",
       "      <td>0.077</td>\n",
       "      <td>28.0</td>\n",
       "      <td>54.0</td>\n",
       "      <td>0.99560</td>\n",
       "      <td>3.37</td>\n",
       "      <td>0.64</td>\n",
       "      <td>10.4</td>\n",
       "      <td>6</td>\n",
       "    </tr>\n",
       "    <tr>\n",
       "      <th>1118</th>\n",
       "      <td>7.1</td>\n",
       "      <td>0.390</td>\n",
       "      <td>0.12</td>\n",
       "      <td>2.1</td>\n",
       "      <td>0.065</td>\n",
       "      <td>14.0</td>\n",
       "      <td>24.0</td>\n",
       "      <td>0.99252</td>\n",
       "      <td>3.30</td>\n",
       "      <td>0.53</td>\n",
       "      <td>13.3</td>\n",
       "      <td>6</td>\n",
       "    </tr>\n",
       "    <tr>\n",
       "      <th>...</th>\n",
       "      <td>...</td>\n",
       "      <td>...</td>\n",
       "      <td>...</td>\n",
       "      <td>...</td>\n",
       "      <td>...</td>\n",
       "      <td>...</td>\n",
       "      <td>...</td>\n",
       "      <td>...</td>\n",
       "      <td>...</td>\n",
       "      <td>...</td>\n",
       "      <td>...</td>\n",
       "      <td>...</td>\n",
       "    </tr>\n",
       "    <tr>\n",
       "      <th>529</th>\n",
       "      <td>9.9</td>\n",
       "      <td>0.630</td>\n",
       "      <td>0.24</td>\n",
       "      <td>2.4</td>\n",
       "      <td>0.077</td>\n",
       "      <td>6.0</td>\n",
       "      <td>33.0</td>\n",
       "      <td>0.99740</td>\n",
       "      <td>3.09</td>\n",
       "      <td>0.57</td>\n",
       "      <td>9.4</td>\n",
       "      <td>5</td>\n",
       "    </tr>\n",
       "    <tr>\n",
       "      <th>912</th>\n",
       "      <td>10.0</td>\n",
       "      <td>0.460</td>\n",
       "      <td>0.44</td>\n",
       "      <td>2.9</td>\n",
       "      <td>0.065</td>\n",
       "      <td>4.0</td>\n",
       "      <td>8.0</td>\n",
       "      <td>0.99674</td>\n",
       "      <td>3.33</td>\n",
       "      <td>0.62</td>\n",
       "      <td>12.2</td>\n",
       "      <td>6</td>\n",
       "    </tr>\n",
       "    <tr>\n",
       "      <th>1227</th>\n",
       "      <td>9.0</td>\n",
       "      <td>0.580</td>\n",
       "      <td>0.25</td>\n",
       "      <td>2.0</td>\n",
       "      <td>0.104</td>\n",
       "      <td>8.0</td>\n",
       "      <td>21.0</td>\n",
       "      <td>0.99769</td>\n",
       "      <td>3.27</td>\n",
       "      <td>0.72</td>\n",
       "      <td>9.6</td>\n",
       "      <td>5</td>\n",
       "    </tr>\n",
       "    <tr>\n",
       "      <th>1374</th>\n",
       "      <td>6.8</td>\n",
       "      <td>0.815</td>\n",
       "      <td>0.00</td>\n",
       "      <td>1.2</td>\n",
       "      <td>0.267</td>\n",
       "      <td>16.0</td>\n",
       "      <td>29.0</td>\n",
       "      <td>0.99471</td>\n",
       "      <td>3.32</td>\n",
       "      <td>0.51</td>\n",
       "      <td>9.8</td>\n",
       "      <td>3</td>\n",
       "    </tr>\n",
       "    <tr>\n",
       "      <th>1198</th>\n",
       "      <td>7.7</td>\n",
       "      <td>0.260</td>\n",
       "      <td>0.26</td>\n",
       "      <td>2.0</td>\n",
       "      <td>0.052</td>\n",
       "      <td>19.0</td>\n",
       "      <td>77.0</td>\n",
       "      <td>0.99510</td>\n",
       "      <td>3.15</td>\n",
       "      <td>0.79</td>\n",
       "      <td>10.9</td>\n",
       "      <td>6</td>\n",
       "    </tr>\n",
       "  </tbody>\n",
       "</table>\n",
       "<p>100 rows × 12 columns</p>\n",
       "</div>"
      ],
      "text/plain": [
       "      fixed acidity  volatile acidity  citric acid  residual sugar  chlorides  \\\n",
       "75              8.8             0.410         0.64             2.2      0.093   \n",
       "1283            8.7             0.630         0.28             2.7      0.096   \n",
       "408            10.4             0.340         0.58             3.7      0.174   \n",
       "1281            7.1             0.460         0.20             1.9      0.077   \n",
       "1118            7.1             0.390         0.12             2.1      0.065   \n",
       "...             ...               ...          ...             ...        ...   \n",
       "529             9.9             0.630         0.24             2.4      0.077   \n",
       "912            10.0             0.460         0.44             2.9      0.065   \n",
       "1227            9.0             0.580         0.25             2.0      0.104   \n",
       "1374            6.8             0.815         0.00             1.2      0.267   \n",
       "1198            7.7             0.260         0.26             2.0      0.052   \n",
       "\n",
       "      free sulfur dioxide  total sulfur dioxide  density    pH  sulphates  \\\n",
       "75                    9.0                  42.0  0.99860  3.54       0.66   \n",
       "1283                 17.0                  69.0  0.99734  3.26       0.63   \n",
       "408                   6.0                  16.0  0.99700  3.19       0.70   \n",
       "1281                 28.0                  54.0  0.99560  3.37       0.64   \n",
       "1118                 14.0                  24.0  0.99252  3.30       0.53   \n",
       "...                   ...                   ...      ...   ...        ...   \n",
       "529                   6.0                  33.0  0.99740  3.09       0.57   \n",
       "912                   4.0                   8.0  0.99674  3.33       0.62   \n",
       "1227                  8.0                  21.0  0.99769  3.27       0.72   \n",
       "1374                 16.0                  29.0  0.99471  3.32       0.51   \n",
       "1198                 19.0                  77.0  0.99510  3.15       0.79   \n",
       "\n",
       "      alcohol  quality  \n",
       "75       10.5        5  \n",
       "1283     10.2        6  \n",
       "408      11.3        6  \n",
       "1281     10.4        6  \n",
       "1118     13.3        6  \n",
       "...       ...      ...  \n",
       "529       9.4        5  \n",
       "912      12.2        6  \n",
       "1227      9.6        5  \n",
       "1374      9.8        3  \n",
       "1198     10.9        6  \n",
       "\n",
       "[100 rows x 12 columns]"
      ]
     },
     "execution_count": 83,
     "metadata": {},
     "output_type": "execute_result"
    }
   ],
   "source": [
    "sample_wine_df = wine_df.sample(n=100,random_state=1)\n",
    "sample_wine_df"
   ]
  },
  {
   "cell_type": "markdown",
   "id": "reasonable-programmer",
   "metadata": {},
   "source": [
    "## Create your own linear model"
   ]
  },
  {
   "cell_type": "markdown",
   "id": "attended-aging",
   "metadata": {},
   "source": [
    "Plot pH in function of fixed acidity"
   ]
  },
  {
   "cell_type": "code",
   "execution_count": 84,
   "id": "derived-allocation",
   "metadata": {},
   "outputs": [
    {
     "data": {
      "text/plain": [
       "['5', '6', '7', '8', '9', '10', '11', '12', '13', '14']"
      ]
     },
     "execution_count": 84,
     "metadata": {},
     "output_type": "execute_result"
    }
   ],
   "source": [
    "[str(x) for x in list(range(5,15))]"
   ]
  },
  {
   "cell_type": "code",
   "execution_count": 85,
   "id": "specialized-korean",
   "metadata": {},
   "outputs": [
    {
     "data": {
      "image/png": "[encoded data removed]",
      "text/plain": [
       "<Figure size 360x360 with 1 Axes>"
      ]
     },
     "metadata": {
      "needs_background": "light"
     },
     "output_type": "display_data"
    }
   ],
   "source": [
    "s_x=sample_wine_df['fixed acidity']\n",
    "s_y=sample_wine_df['pH']\n",
    "g = sns.catplot(x=s_x, y=s_y, data=sample_wine_df)\n",
    "#g.set(xticks=[5,20])\n",
    "#g.set_xticklabels([str(x) for x in list(range(5,15))])\n",
    "#g.set_xticks([str(x) for x in list(range(5,15))])\n",
    "#g.set_xticks(range(len(s_x)+1))\n",
    "#g.set_xticklabels(['5','15'])\n",
    "#g.set(xlim=(4, 15), xticks=[5,15])"
   ]
  },
  {
   "cell_type": "code",
   "execution_count": 86,
   "id": "matched-scope",
   "metadata": {},
   "outputs": [
    {
     "data": {
      "image/png": "[encoded data removed]",
      "text/plain": [
       "<Figure size 432x288 with 1 Axes>"
      ]
     },
     "metadata": {
      "needs_background": "light"
     },
     "output_type": "display_data"
    }
   ],
   "source": [
    "sns.scatterplot(x=sample_wine_df[\"fixed acidity\"], y=sample_wine_df[\"pH\"]);"
   ]
  },
  {
   "cell_type": "markdown",
   "id": "republican-bookmark",
   "metadata": {},
   "source": [
    "### Analyse correlation "
   ]
  },
  {
   "cell_type": "markdown",
   "id": "informal-danish",
   "metadata": {},
   "source": [
    "What can you say about pH and fixed acidity? are they correlated ? "
   ]
  },
  {
   "cell_type": "code",
   "execution_count": 87,
   "id": "attractive-marker",
   "metadata": {},
   "outputs": [],
   "source": [
    "corr = sample_wine_df.corr()"
   ]
  },
  {
   "cell_type": "code",
   "execution_count": 88,
   "id": "toxic-hybrid",
   "metadata": {},
   "outputs": [
    {
     "data": {
      "text/plain": [
       "<AxesSubplot:>"
      ]
     },
     "execution_count": 88,
     "metadata": {},
     "output_type": "execute_result"
    },
    {
     "data": {
      "image/png": "[encoded data removed]",
      "text/plain": [
       "<Figure size 432x288 with 2 Axes>"
      ]
     },
     "metadata": {
      "needs_background": "light"
     },
     "output_type": "display_data"
    }
   ],
   "source": [
    "# Heatmap\n",
    "sns.heatmap(corr, \n",
    "        xticklabels=corr.columns,\n",
    "        yticklabels=corr.columns,\n",
    "        cmap= \"YlGnBu\")"
   ]
  },
  {
   "cell_type": "code",
   "execution_count": 89,
   "id": "honest-regulation",
   "metadata": {
    "scrolled": true
   },
   "outputs": [
    {
     "data": {
      "text/html": [
       "<div>\n",
       "<style scoped>\n",
       "    .dataframe tbody tr th:only-of-type {\n",
       "        vertical-align: middle;\n",
       "    }\n",
       "\n",
       "    .dataframe tbody tr th {\n",
       "        vertical-align: top;\n",
       "    }\n",
       "\n",
       "    .dataframe thead th {\n",
       "        text-align: right;\n",
       "    }\n",
       "</style>\n",
       "<table border=\"1\" class=\"dataframe\">\n",
       "  <thead>\n",
       "    <tr style=\"text-align: right;\">\n",
       "      <th></th>\n",
       "      <th>feature_1</th>\n",
       "      <th>feature_2</th>\n",
       "      <th>correlation</th>\n",
       "    </tr>\n",
       "  </thead>\n",
       "  <tbody>\n",
       "    <tr>\n",
       "      <th>66</th>\n",
       "      <td>free sulfur dioxide</td>\n",
       "      <td>total sulfur dioxide</td>\n",
       "      <td>0.697088</td>\n",
       "    </tr>\n",
       "    <tr>\n",
       "      <th>77</th>\n",
       "      <td>total sulfur dioxide</td>\n",
       "      <td>free sulfur dioxide</td>\n",
       "      <td>0.697088</td>\n",
       "    </tr>\n",
       "    <tr>\n",
       "      <th>2</th>\n",
       "      <td>fixed acidity</td>\n",
       "      <td>citric acid</td>\n",
       "      <td>0.658054</td>\n",
       "    </tr>\n",
       "    <tr>\n",
       "      <th>24</th>\n",
       "      <td>citric acid</td>\n",
       "      <td>fixed acidity</td>\n",
       "      <td>0.658054</td>\n",
       "    </tr>\n",
       "    <tr>\n",
       "      <th>7</th>\n",
       "      <td>fixed acidity</td>\n",
       "      <td>density</td>\n",
       "      <td>0.652115</td>\n",
       "    </tr>\n",
       "  </tbody>\n",
       "</table>\n",
       "</div>"
      ],
      "text/plain": [
       "               feature_1             feature_2  correlation\n",
       "66   free sulfur dioxide  total sulfur dioxide     0.697088\n",
       "77  total sulfur dioxide   free sulfur dioxide     0.697088\n",
       "2          fixed acidity           citric acid     0.658054\n",
       "24           citric acid         fixed acidity     0.658054\n",
       "7          fixed acidity               density     0.652115"
      ]
     },
     "execution_count": 89,
     "metadata": {},
     "output_type": "execute_result"
    }
   ],
   "source": [
    "# Unstack correlation matrix \n",
    "corr_df = corr.unstack().reset_index() \n",
    "corr_df\n",
    "\n",
    "# rename columns\n",
    "corr_df.columns = ['feature_1','feature_2', 'correlation'] \n",
    "\n",
    "# sort by correlation\n",
    "corr_df.sort_values(by=\"correlation\",ascending=False, inplace=True) \n",
    "\n",
    "# Remove self correlation\n",
    "corr_df = corr_df[corr_df['feature_1'] != corr_df['feature_2']] \n",
    "corr_df.head()"
   ]
  },
  {
   "cell_type": "code",
   "execution_count": 90,
   "id": "streaming-encyclopedia",
   "metadata": {},
   "outputs": [
    {
     "data": {
      "text/html": [
       "<div>\n",
       "<style scoped>\n",
       "    .dataframe tbody tr th:only-of-type {\n",
       "        vertical-align: middle;\n",
       "    }\n",
       "\n",
       "    .dataframe tbody tr th {\n",
       "        vertical-align: top;\n",
       "    }\n",
       "\n",
       "    .dataframe thead th {\n",
       "        text-align: right;\n",
       "    }\n",
       "</style>\n",
       "<table border=\"1\" class=\"dataframe\">\n",
       "  <thead>\n",
       "    <tr style=\"text-align: right;\">\n",
       "      <th></th>\n",
       "      <th>feature_1</th>\n",
       "      <th>feature_2</th>\n",
       "      <th>correlation</th>\n",
       "    </tr>\n",
       "  </thead>\n",
       "  <tbody>\n",
       "    <tr>\n",
       "      <th>96</th>\n",
       "      <td>pH</td>\n",
       "      <td>fixed acidity</td>\n",
       "      <td>-0.619941</td>\n",
       "    </tr>\n",
       "  </tbody>\n",
       "</table>\n",
       "</div>"
      ],
      "text/plain": [
       "   feature_1      feature_2  correlation\n",
       "96        pH  fixed acidity    -0.619941"
      ]
     },
     "execution_count": 90,
     "metadata": {},
     "output_type": "execute_result"
    }
   ],
   "source": [
    "pH_corr_df = corr_df[corr_df['feature_1'] == 'pH']\n",
    "pH_corr_df[pH_corr_df['feature_2'] == 'fixed acidity']"
   ]
  },
  {
   "cell_type": "markdown",
   "id": "absolute-mainstream",
   "metadata": {},
   "source": [
    "**Answer:** pH and fixed acidity have a negatif correlation of -0.619 ... this means that there is a certain linear tendency where one part of the fixed acidity can explain the variance of pH"
   ]
  },
  {
   "cell_type": "code",
   "execution_count": null,
   "id": "neural-adelaide",
   "metadata": {},
   "outputs": [],
   "source": []
  },
  {
   "cell_type": "markdown",
   "id": "imposed-vinyl",
   "metadata": {},
   "source": [
    "### Creating your  linear model by hand"
   ]
  },
  {
   "cell_type": "markdown",
   "id": "banner-friday",
   "metadata": {},
   "source": [
    "Try to find a linear model by hand. plot it with the sample set\n",
    "\n",
    "Hint: define an intercept and slope. Then, plot it graphically\n",
    "\n",
    "y = a * x + b, where a is slope and b is intercept"
   ]
  },
  {
   "cell_type": "code",
   "execution_count": 91,
   "id": "advance-newton",
   "metadata": {},
   "outputs": [],
   "source": [
    "def plot_line(a, b, ax):\n",
    "    \"\"\"Plot a line from slope and intercept on the ax\"\"\"\n",
    "    x_vals = np.array(ax.get_xlim())\n",
    "    y_vals = a * x_vals + b\n",
    "    ax.plot(x_vals, y_vals, '-')"
   ]
  },
  {
   "cell_type": "code",
   "execution_count": 92,
   "id": "civilian-privilege",
   "metadata": {},
   "outputs": [
    {
     "data": {
      "image/png": "[encoded data removed]",
      "text/plain": [
       "<Figure size 432x288 with 1 Axes>"
      ]
     },
     "metadata": {
      "needs_background": "light"
     },
     "output_type": "display_data"
    }
   ],
   "source": [
    "ax = sns.scatterplot(x=\"fixed acidity\", y=\"pH\", data=sample_wine_df)\n",
    "plot_line(-0.1, 3.8, ax)"
   ]
  },
  {
   "cell_type": "markdown",
   "id": "returning-genre",
   "metadata": {},
   "source": [
    "### Find the best linear model by hand"
   ]
  },
  {
   "cell_type": "markdown",
   "id": "constant-pilot",
   "metadata": {},
   "source": [
    "what is the best linear model you can find ? try to define different intercepts and slopes by hand"
   ]
  },
  {
   "cell_type": "code",
   "execution_count": 93,
   "id": "rental-constraint",
   "metadata": {},
   "outputs": [
    {
     "data": {
      "image/png": "[encoded data removed]",
      "text/plain": [
       "<Figure size 432x288 with 1 Axes>"
      ]
     },
     "metadata": {
      "needs_background": "light"
     },
     "output_type": "display_data"
    }
   ],
   "source": [
    "ax = sns.scatterplot(x=\"fixed acidity\", y=\"pH\", data=sample_wine_df)\n",
    "a_list = [-0.08, -0.1, -0.05]\n",
    "b_list = [4, 4, 4]\n",
    "for i in range(len(a_list)):\n",
    "    plot_line(a_list[i], b_list[i], ax)"
   ]
  },
  {
   "cell_type": "markdown",
   "id": "single-visibility",
   "metadata": {},
   "source": [
    "Compare to seaborn regplot"
   ]
  },
  {
   "cell_type": "code",
   "execution_count": 94,
   "id": "informative-tiger",
   "metadata": {},
   "outputs": [
    {
     "data": {
      "image/png": "[encoded data removed]",
      "text/plain": [
       "<Figure size 432x288 with 1 Axes>"
      ]
     },
     "metadata": {
      "needs_background": "light"
     },
     "output_type": "display_data"
    }
   ],
   "source": [
    "# plot your linear model with regplot and compare\n",
    "ax = sns.regplot(y='pH', x='fixed acidity', data=sample_wine_df)\n",
    "plot_line(-0.08, 4, ax)"
   ]
  },
  {
   "cell_type": "markdown",
   "id": "printable-feeling",
   "metadata": {},
   "source": [
    "How far is your linear model from seaborn model?"
   ]
  },
  {
   "cell_type": "code",
   "execution_count": 95,
   "id": "automotive-purpose",
   "metadata": {},
   "outputs": [],
   "source": [
    "# quite different, the slope is higher than the one calculated by regplot"
   ]
  },
  {
   "cell_type": "markdown",
   "id": "sudden-force",
   "metadata": {},
   "source": [
    "How do you evaluate the performance of your linear models at each iteration ?"
   ]
  },
  {
   "cell_type": "code",
   "execution_count": 96,
   "id": "standing-thomas",
   "metadata": {},
   "outputs": [],
   "source": [
    "# using a loss function to evaluate \n",
    "# the difference between observations and predictions"
   ]
  },
  {
   "cell_type": "code",
   "execution_count": 97,
   "id": "copyrighted-electronics",
   "metadata": {},
   "outputs": [],
   "source": [
    "# function that calculate the square errors\n",
    "def squared_errors(slope, intercept, fixed_acidity, pH):\n",
    "    return (pH - ((slope * fixed_acidity) + intercept)) ** 2"
   ]
  },
  {
   "cell_type": "code",
   "execution_count": 98,
   "id": "liable-egypt",
   "metadata": {},
   "outputs": [],
   "source": [
    "# function that calculate the mse\n",
    "def mse(slope, intercept, fixed_acidity, pH):\n",
    "    errors = squared_errors(slope, intercept, fixed_acidity, pH)\n",
    "    return np.mean(errors)"
   ]
  },
  {
   "cell_type": "code",
   "execution_count": 99,
   "id": "unavailable-champagne",
   "metadata": {},
   "outputs": [
    {
     "data": {
      "text/plain": [
       "0.035038000000000034"
      ]
     },
     "execution_count": 99,
     "metadata": {},
     "output_type": "execute_result"
    }
   ],
   "source": [
    "mse(-0.1, 4, sample_wine_df[\"fixed acidity\"], sample_wine_df.pH)"
   ]
  },
  {
   "cell_type": "code",
   "execution_count": 100,
   "id": "sticky-seafood",
   "metadata": {},
   "outputs": [
    {
     "data": {
      "text/plain": [
       "3.5038000000000027"
      ]
     },
     "execution_count": 100,
     "metadata": {},
     "output_type": "execute_result"
    }
   ],
   "source": [
    "squared_errors(-0.1, 4, sample_wine_df[\"fixed acidity\"], sample_wine_df.pH).sum()"
   ]
  },
  {
   "cell_type": "markdown",
   "id": "protective-disney",
   "metadata": {},
   "source": [
    "### Find the best parameters with an algorithm"
   ]
  },
  {
   "cell_type": "markdown",
   "id": "worst-analyst",
   "metadata": {},
   "source": [
    "Try to create a method where each time you define a slope or intercept, you reduce the error of the model. Then, you iterate to find the best model\n",
    "\n",
    "Hint: choose a fixed intercept, find the slope that reduce the error of the model. Then keep that slope, find the new intercept that reduce the error of the model ..."
   ]
  },
  {
   "cell_type": "markdown",
   "id": "signal-antarctica",
   "metadata": {},
   "source": [
    "##### Fixing intercept to find best slope"
   ]
  },
  {
   "cell_type": "code",
   "execution_count": 101,
   "id": "racial-article",
   "metadata": {},
   "outputs": [],
   "source": [
    "intercept_initial_guess = 4 # For instance, we may suppose there is always a small transaction fee even for very small flats?\n",
    "\n",
    "# Create a range of 100 slopes which contains what you believe is the optimal slope (hint: np.linspace())\n",
    "slope_range = np.linspace(-0.1,-0.05,100)\n",
    "\n",
    "# Create the list of MSEs for each slope value\n",
    "mses = list(map(lambda x: mse(x, intercept_initial_guess, sample_wine_df[\"fixed acidity\"], sample_wine_df.pH), slope_range))"
   ]
  },
  {
   "cell_type": "code",
   "execution_count": 102,
   "id": "documentary-theta",
   "metadata": {},
   "outputs": [
    {
     "data": {
      "text/plain": [
       "Text(0, 0.5, 'MSE')"
      ]
     },
     "execution_count": 102,
     "metadata": {},
     "output_type": "execute_result"
    },
    {
     "data": {
      "image/png": "[encoded data removed]",
      "text/plain": [
       "<Figure size 432x288 with 1 Axes>"
      ]
     },
     "metadata": {
      "needs_background": "light"
     },
     "output_type": "display_data"
    }
   ],
   "source": [
    "# Plot MSEs against slopes. Do you see a minimum? If not, try another range of slopes!\n",
    "plt.plot(slope_range, mses)\n",
    "plt.xlabel(\"slope\")\n",
    "plt.ylabel(\"MSE\")"
   ]
  },
  {
   "cell_type": "code",
   "execution_count": 103,
   "id": "connected-rochester",
   "metadata": {},
   "outputs": [
    {
     "name": "stdout",
     "output_type": "stream",
     "text": [
      "mse_min: 0.013490916666666677\n",
      "slope_best: -0.08333333333333334\n"
     ]
    }
   ],
   "source": [
    "mse_min = min(mses)\n",
    "slope_best = slope_range[mses.index(mse_min)]\n",
    "print('mse_min:', mse_min)\n",
    "print('slope_best:', slope_best)"
   ]
  },
  {
   "cell_type": "markdown",
   "id": "mediterranean-heavy",
   "metadata": {},
   "source": [
    "##### Fixing best slope to find best intercept"
   ]
  },
  {
   "cell_type": "code",
   "execution_count": 104,
   "id": "increasing-breathing",
   "metadata": {},
   "outputs": [
    {
     "data": {
      "text/plain": [
       "Text(0, 0.5, 'MSE')"
      ]
     },
     "execution_count": 104,
     "metadata": {},
     "output_type": "execute_result"
    },
    {
     "data": {
      "image/png": "[encoded data removed]",
      "text/plain": [
       "<Figure size 432x288 with 1 Axes>"
      ]
     },
     "metadata": {
      "needs_background": "light"
     },
     "output_type": "display_data"
    }
   ],
   "source": [
    "# Create a range of 100 intercepts which contains what you believe is the optimal intercept\n",
    "intercept_range = np.linspace(3,5, 100)\n",
    "\n",
    "# Create the list of MSEs for each intercept value\n",
    "mses = list(map(lambda x: mse(slope_best, x, sample_wine_df[\"fixed acidity\"], sample_wine_df.pH), intercept_range))\n",
    "\n",
    "# Plot MSEs against slopes. Do you see a minimum? If not, try another range of slopes!\n",
    "plt.plot(intercept_range, mses)\n",
    "plt.scatter(intercept_initial_guess, mse(slope_best, intercept_initial_guess, sample_wine_df[\"fixed acidity\"], sample_wine_df.pH), color = 'r')\n",
    "plt.xlabel('intercept')\n",
    "plt.ylabel(\"MSE\")"
   ]
  },
  {
   "cell_type": "code",
   "execution_count": 105,
   "id": "radical-survivor",
   "metadata": {},
   "outputs": [
    {
     "name": "stdout",
     "output_type": "stream",
     "text": [
      "mse_min: 0.013416852795633101\n",
      "intercept_best: 3.98989898989899\n"
     ]
    }
   ],
   "source": [
    "# Compute the min value of MSEs for slope=slope_best and store the corresponding best intercept\n",
    "mse_min = min(mses)\n",
    "intercept_best = intercept_range[mses.index(mse_min)]\n",
    "\n",
    "print('mse_min:', mse_min)\n",
    "print('intercept_best:', intercept_best)"
   ]
  },
  {
   "cell_type": "code",
   "execution_count": 106,
   "id": "incorporate-pillow",
   "metadata": {},
   "outputs": [
    {
     "data": {
      "image/png": "[encoded data removed]",
      "text/plain": [
       "<Figure size 432x288 with 1 Axes>"
      ]
     },
     "metadata": {
      "needs_background": "light"
     },
     "output_type": "display_data"
    }
   ],
   "source": [
    "ax = sns.scatterplot(x=\"fixed acidity\", y=\"pH\", data=sample_wine_df)\n",
    "plot_line(slope_best, intercept_best, ax)"
   ]
  },
  {
   "cell_type": "code",
   "execution_count": null,
   "id": "necessary-lover",
   "metadata": {},
   "outputs": [],
   "source": []
  },
  {
   "cell_type": "markdown",
   "id": "administrative-adobe",
   "metadata": {},
   "source": [
    "How many iterations did you tried ? what are the best intercept and slope you found? Are you closer to the seaborn linear model ?  "
   ]
  },
  {
   "cell_type": "code",
   "execution_count": 107,
   "id": "judicial-discretion",
   "metadata": {},
   "outputs": [
    {
     "name": "stdout",
     "output_type": "stream",
     "text": [
      "-0.08333333333333334\n",
      "3.98989898989899\n"
     ]
    }
   ],
   "source": [
    "# just 2 iterations. \n",
    "print(slope_best)\n",
    "print(intercept_best)\n"
   ]
  },
  {
   "cell_type": "code",
   "execution_count": 108,
   "id": "liable-violence",
   "metadata": {
    "scrolled": true
   },
   "outputs": [
    {
     "data": {
      "image/png": "[encoded data removed]",
      "text/plain": [
       "<Figure size 432x288 with 1 Axes>"
      ]
     },
     "metadata": {
      "needs_background": "light"
     },
     "output_type": "display_data"
    }
   ],
   "source": [
    "# plot your linear model with regplot and compare\n",
    "ax = sns.regplot(y='pH', x='fixed acidity', data=sample_wine_df)\n",
    "plot_line(slope_best, intercept_best, ax)"
   ]
  },
  {
   "cell_type": "markdown",
   "id": "russian-peter",
   "metadata": {},
   "source": [
    "According to you ... is this the OLS method ? can you describe with your own words, how it works? how different is from your method ?"
   ]
  },
  {
   "cell_type": "code",
   "execution_count": null,
   "id": "based-smile",
   "metadata": {},
   "outputs": [],
   "source": []
  },
  {
   "cell_type": "markdown",
   "id": "complete-interface",
   "metadata": {},
   "source": [
    "Compare with the Linear regression used in scikit learn"
   ]
  },
  {
   "cell_type": "code",
   "execution_count": 109,
   "id": "southeast-humor",
   "metadata": {},
   "outputs": [
    {
     "name": "stdout",
     "output_type": "stream",
     "text": [
      "[-0.051601]\n",
      "3.7176554637668797\n"
     ]
    }
   ],
   "source": [
    "# Import the model\n",
    "from sklearn.linear_model import LinearRegression\n",
    "\n",
    "# Instanciate the model\n",
    "model = LinearRegression()\n",
    "\n",
    "# Define X and y\n",
    "X = sample_wine_df[['fixed acidity']]\n",
    "y = sample_wine_df['pH']\n",
    "\n",
    "# Train the model on the data\n",
    "model.fit(X, y)\n",
    "\n",
    "# check results\n",
    "# model's slope (a)\n",
    "print(model.coef_)\n",
    "\n",
    "# model's intercept (b)\n",
    "print(model.intercept_)"
   ]
  },
  {
   "cell_type": "markdown",
   "id": "ceramic-writer",
   "metadata": {},
   "source": [
    "Are you close to these values ?"
   ]
  },
  {
   "cell_type": "code",
   "execution_count": 110,
   "id": "perfect-restoration",
   "metadata": {},
   "outputs": [
    {
     "name": "stdout",
     "output_type": "stream",
     "text": [
      "-0.08333333333333334\n",
      "3.98989898989899\n"
     ]
    }
   ],
   "source": [
    "# a bit, but not enough\n",
    "\n",
    "# my best parameters\n",
    "print(slope_best)\n",
    "print(intercept_best)\n"
   ]
  },
  {
   "cell_type": "code",
   "execution_count": 111,
   "id": "norwegian-hollow",
   "metadata": {},
   "outputs": [
    {
     "name": "stdout",
     "output_type": "stream",
     "text": [
      "[-0.051601]\n",
      "3.7176554637668797\n"
     ]
    }
   ],
   "source": [
    "# sklearn best parameters\n",
    "print(model.coef_)\n",
    "print(model.intercept_)"
   ]
  },
  {
   "cell_type": "code",
   "execution_count": 112,
   "id": "realistic-guyana",
   "metadata": {},
   "outputs": [
    {
     "data": {
      "text/plain": [
       "0.013416852795633101"
      ]
     },
     "execution_count": 112,
     "metadata": {},
     "output_type": "execute_result"
    }
   ],
   "source": [
    "mse(slope_best, intercept_best, sample_wine_df[\"fixed acidity\"], sample_wine_df.pH)"
   ]
  },
  {
   "cell_type": "code",
   "execution_count": 113,
   "id": "greenhouse-wrong",
   "metadata": {},
   "outputs": [
    {
     "data": {
      "text/plain": [
       "0.010852905727191513"
      ]
     },
     "execution_count": 113,
     "metadata": {},
     "output_type": "execute_result"
    }
   ],
   "source": [
    "mse(model.coef_, model.intercept_, sample_wine_df[\"fixed acidity\"], sample_wine_df.pH)"
   ]
  },
  {
   "cell_type": "code",
   "execution_count": null,
   "id": "monthly-thumb",
   "metadata": {},
   "outputs": [],
   "source": []
  },
  {
   "cell_type": "markdown",
   "id": "unauthorized-margin",
   "metadata": {},
   "source": [
    "How do you interpret these values? What do they say about the pH and fixed acidity?"
   ]
  },
  {
   "cell_type": "code",
   "execution_count": 114,
   "id": "serious-arcade",
   "metadata": {},
   "outputs": [],
   "source": [
    "# the mean error between "
   ]
  },
  {
   "cell_type": "code",
   "execution_count": null,
   "id": "reserved-joining",
   "metadata": {},
   "outputs": [],
   "source": []
  },
  {
   "cell_type": "code",
   "execution_count": null,
   "id": "eight-visit",
   "metadata": {},
   "outputs": [],
   "source": []
  },
  {
   "cell_type": "markdown",
   "id": "fundamental-champion",
   "metadata": {},
   "source": [
    "## inference analysis"
   ]
  },
  {
   "cell_type": "markdown",
   "id": "hungarian-capability",
   "metadata": {},
   "source": [
    "Get a new sample of 100 with different random state (seed) = 60"
   ]
  },
  {
   "cell_type": "code",
   "execution_count": 134,
   "id": "weird-short",
   "metadata": {},
   "outputs": [
    {
     "data": {
      "text/html": [
       "<div>\n",
       "<style scoped>\n",
       "    .dataframe tbody tr th:only-of-type {\n",
       "        vertical-align: middle;\n",
       "    }\n",
       "\n",
       "    .dataframe tbody tr th {\n",
       "        vertical-align: top;\n",
       "    }\n",
       "\n",
       "    .dataframe thead th {\n",
       "        text-align: right;\n",
       "    }\n",
       "</style>\n",
       "<table border=\"1\" class=\"dataframe\">\n",
       "  <thead>\n",
       "    <tr style=\"text-align: right;\">\n",
       "      <th></th>\n",
       "      <th>fixed acidity</th>\n",
       "      <th>volatile acidity</th>\n",
       "      <th>citric acid</th>\n",
       "      <th>residual sugar</th>\n",
       "      <th>chlorides</th>\n",
       "      <th>free sulfur dioxide</th>\n",
       "      <th>total sulfur dioxide</th>\n",
       "      <th>density</th>\n",
       "      <th>pH</th>\n",
       "      <th>sulphates</th>\n",
       "      <th>alcohol</th>\n",
       "      <th>quality</th>\n",
       "    </tr>\n",
       "  </thead>\n",
       "  <tbody>\n",
       "    <tr>\n",
       "      <th>31</th>\n",
       "      <td>6.9</td>\n",
       "      <td>0.685</td>\n",
       "      <td>0.00</td>\n",
       "      <td>2.5</td>\n",
       "      <td>0.105</td>\n",
       "      <td>22.0</td>\n",
       "      <td>37.0</td>\n",
       "      <td>0.99660</td>\n",
       "      <td>3.46</td>\n",
       "      <td>0.57</td>\n",
       "      <td>10.6</td>\n",
       "      <td>6</td>\n",
       "    </tr>\n",
       "    <tr>\n",
       "      <th>844</th>\n",
       "      <td>9.9</td>\n",
       "      <td>0.250</td>\n",
       "      <td>0.46</td>\n",
       "      <td>1.7</td>\n",
       "      <td>0.062</td>\n",
       "      <td>26.0</td>\n",
       "      <td>42.0</td>\n",
       "      <td>0.99590</td>\n",
       "      <td>3.18</td>\n",
       "      <td>0.83</td>\n",
       "      <td>10.6</td>\n",
       "      <td>6</td>\n",
       "    </tr>\n",
       "    <tr>\n",
       "      <th>1573</th>\n",
       "      <td>6.0</td>\n",
       "      <td>0.580</td>\n",
       "      <td>0.20</td>\n",
       "      <td>2.4</td>\n",
       "      <td>0.075</td>\n",
       "      <td>15.0</td>\n",
       "      <td>50.0</td>\n",
       "      <td>0.99467</td>\n",
       "      <td>3.58</td>\n",
       "      <td>0.67</td>\n",
       "      <td>12.5</td>\n",
       "      <td>6</td>\n",
       "    </tr>\n",
       "    <tr>\n",
       "      <th>150</th>\n",
       "      <td>7.3</td>\n",
       "      <td>0.330</td>\n",
       "      <td>0.47</td>\n",
       "      <td>2.1</td>\n",
       "      <td>0.077</td>\n",
       "      <td>5.0</td>\n",
       "      <td>11.0</td>\n",
       "      <td>0.99580</td>\n",
       "      <td>3.33</td>\n",
       "      <td>0.53</td>\n",
       "      <td>10.3</td>\n",
       "      <td>6</td>\n",
       "    </tr>\n",
       "    <tr>\n",
       "      <th>258</th>\n",
       "      <td>7.7</td>\n",
       "      <td>0.410</td>\n",
       "      <td>0.76</td>\n",
       "      <td>1.8</td>\n",
       "      <td>0.611</td>\n",
       "      <td>8.0</td>\n",
       "      <td>45.0</td>\n",
       "      <td>0.99680</td>\n",
       "      <td>3.06</td>\n",
       "      <td>1.26</td>\n",
       "      <td>9.4</td>\n",
       "      <td>5</td>\n",
       "    </tr>\n",
       "    <tr>\n",
       "      <th>...</th>\n",
       "      <td>...</td>\n",
       "      <td>...</td>\n",
       "      <td>...</td>\n",
       "      <td>...</td>\n",
       "      <td>...</td>\n",
       "      <td>...</td>\n",
       "      <td>...</td>\n",
       "      <td>...</td>\n",
       "      <td>...</td>\n",
       "      <td>...</td>\n",
       "      <td>...</td>\n",
       "      <td>...</td>\n",
       "    </tr>\n",
       "    <tr>\n",
       "      <th>1350</th>\n",
       "      <td>9.0</td>\n",
       "      <td>0.600</td>\n",
       "      <td>0.29</td>\n",
       "      <td>2.0</td>\n",
       "      <td>0.069</td>\n",
       "      <td>32.0</td>\n",
       "      <td>73.0</td>\n",
       "      <td>0.99654</td>\n",
       "      <td>3.34</td>\n",
       "      <td>0.57</td>\n",
       "      <td>10.0</td>\n",
       "      <td>5</td>\n",
       "    </tr>\n",
       "    <tr>\n",
       "      <th>677</th>\n",
       "      <td>8.6</td>\n",
       "      <td>0.800</td>\n",
       "      <td>0.11</td>\n",
       "      <td>2.3</td>\n",
       "      <td>0.084</td>\n",
       "      <td>12.0</td>\n",
       "      <td>31.0</td>\n",
       "      <td>0.99790</td>\n",
       "      <td>3.40</td>\n",
       "      <td>0.48</td>\n",
       "      <td>9.9</td>\n",
       "      <td>5</td>\n",
       "    </tr>\n",
       "    <tr>\n",
       "      <th>712</th>\n",
       "      <td>8.7</td>\n",
       "      <td>0.690</td>\n",
       "      <td>0.00</td>\n",
       "      <td>3.2</td>\n",
       "      <td>0.084</td>\n",
       "      <td>13.0</td>\n",
       "      <td>33.0</td>\n",
       "      <td>0.99920</td>\n",
       "      <td>3.36</td>\n",
       "      <td>0.45</td>\n",
       "      <td>9.4</td>\n",
       "      <td>5</td>\n",
       "    </tr>\n",
       "    <tr>\n",
       "      <th>1078</th>\n",
       "      <td>8.6</td>\n",
       "      <td>0.370</td>\n",
       "      <td>0.65</td>\n",
       "      <td>6.4</td>\n",
       "      <td>0.080</td>\n",
       "      <td>3.0</td>\n",
       "      <td>8.0</td>\n",
       "      <td>0.99817</td>\n",
       "      <td>3.27</td>\n",
       "      <td>0.58</td>\n",
       "      <td>11.0</td>\n",
       "      <td>5</td>\n",
       "    </tr>\n",
       "    <tr>\n",
       "      <th>1313</th>\n",
       "      <td>7.0</td>\n",
       "      <td>0.360</td>\n",
       "      <td>0.21</td>\n",
       "      <td>2.3</td>\n",
       "      <td>0.086</td>\n",
       "      <td>20.0</td>\n",
       "      <td>65.0</td>\n",
       "      <td>0.99558</td>\n",
       "      <td>3.40</td>\n",
       "      <td>0.54</td>\n",
       "      <td>10.1</td>\n",
       "      <td>6</td>\n",
       "    </tr>\n",
       "  </tbody>\n",
       "</table>\n",
       "<p>100 rows × 12 columns</p>\n",
       "</div>"
      ],
      "text/plain": [
       "      fixed acidity  volatile acidity  citric acid  residual sugar  chlorides  \\\n",
       "31              6.9             0.685         0.00             2.5      0.105   \n",
       "844             9.9             0.250         0.46             1.7      0.062   \n",
       "1573            6.0             0.580         0.20             2.4      0.075   \n",
       "150             7.3             0.330         0.47             2.1      0.077   \n",
       "258             7.7             0.410         0.76             1.8      0.611   \n",
       "...             ...               ...          ...             ...        ...   \n",
       "1350            9.0             0.600         0.29             2.0      0.069   \n",
       "677             8.6             0.800         0.11             2.3      0.084   \n",
       "712             8.7             0.690         0.00             3.2      0.084   \n",
       "1078            8.6             0.370         0.65             6.4      0.080   \n",
       "1313            7.0             0.360         0.21             2.3      0.086   \n",
       "\n",
       "      free sulfur dioxide  total sulfur dioxide  density    pH  sulphates  \\\n",
       "31                   22.0                  37.0  0.99660  3.46       0.57   \n",
       "844                  26.0                  42.0  0.99590  3.18       0.83   \n",
       "1573                 15.0                  50.0  0.99467  3.58       0.67   \n",
       "150                   5.0                  11.0  0.99580  3.33       0.53   \n",
       "258                   8.0                  45.0  0.99680  3.06       1.26   \n",
       "...                   ...                   ...      ...   ...        ...   \n",
       "1350                 32.0                  73.0  0.99654  3.34       0.57   \n",
       "677                  12.0                  31.0  0.99790  3.40       0.48   \n",
       "712                  13.0                  33.0  0.99920  3.36       0.45   \n",
       "1078                  3.0                   8.0  0.99817  3.27       0.58   \n",
       "1313                 20.0                  65.0  0.99558  3.40       0.54   \n",
       "\n",
       "      alcohol  quality  \n",
       "31       10.6        6  \n",
       "844      10.6        6  \n",
       "1573     12.5        6  \n",
       "150      10.3        6  \n",
       "258       9.4        5  \n",
       "...       ...      ...  \n",
       "1350     10.0        5  \n",
       "677       9.9        5  \n",
       "712       9.4        5  \n",
       "1078     11.0        5  \n",
       "1313     10.1        6  \n",
       "\n",
       "[100 rows x 12 columns]"
      ]
     },
     "execution_count": 134,
     "metadata": {},
     "output_type": "execute_result"
    }
   ],
   "source": [
    "import random\n",
    "\n",
    "wine_df2 = wine_df.sample(n=100,random_state=60)\n",
    "wine_df2\n"
   ]
  },
  {
   "cell_type": "code",
   "execution_count": 116,
   "id": "58dcb5d9",
   "metadata": {
    "scrolled": true
   },
   "outputs": [
    {
     "data": {
      "text/plain": [
       "[<matplotlib.lines.Line2D at 0x13cf4c46820>]"
      ]
     },
     "execution_count": 116,
     "metadata": {},
     "output_type": "execute_result"
    },
    {
     "data": {
      "image/png": "[encoded data removed]",
      "text/plain": [
       "<Figure size 432x288 with 1 Axes>"
      ]
     },
     "metadata": {
      "needs_background": "light"
     },
     "output_type": "display_data"
    }
   ],
   "source": [
    "x = sample_wine_df[\"fixed acidity\"]\n",
    "y = sample_wine_df[\"pH\"]\n",
    "plt.scatter(x, y)\n",
    "\n",
    "pred = -0.051601 * x +3.7176554637668797\n",
    "plt.plot(x, pred, color='red')"
   ]
  },
  {
   "cell_type": "code",
   "execution_count": 117,
   "id": "e1aaa103",
   "metadata": {},
   "outputs": [
    {
     "data": {
      "text/plain": [
       "0.3843269643536662"
      ]
     },
     "execution_count": 117,
     "metadata": {},
     "output_type": "execute_result"
    }
   ],
   "source": [
    "def coef_determination(y, pred):\n",
    "    u = ((y - pred)**2).sum()\n",
    "    v = ((y - y.mean())**2).sum()\n",
    "    return 1 - u/v\n",
    "coef_determination(y, pred)"
   ]
  },
  {
   "cell_type": "markdown",
   "id": "peripheral-powder",
   "metadata": {},
   "source": [
    "Does your best linear model fit with this new sample set ?  Why ?\n"
   ]
  },
  {
   "cell_type": "code",
   "execution_count": 136,
   "id": "asian-august",
   "metadata": {},
   "outputs": [
    {
     "data": {
      "text/plain": [
       "[<matplotlib.lines.Line2D at 0x13cf4b7ca30>]"
      ]
     },
     "execution_count": 136,
     "metadata": {},
     "output_type": "execute_result"
    },
    {
     "data": {
      "image/png": "[encoded data removed]",
      "text/plain": [
       "<Figure size 432x288 with 1 Axes>"
      ]
     },
     "metadata": {
      "needs_background": "light"
     },
     "output_type": "display_data"
    }
   ],
   "source": [
    "x = wine_df2[\"fixed acidity\"]\n",
    "y = wine_df2[\"pH\"]\n",
    "plt.scatter(x, y)\n",
    "\n",
    "y = -0.051601 * x + 3.7176554637668797\n",
    "plt.plot(x, y, color='red')"
   ]
  },
  {
   "cell_type": "markdown",
   "id": "designing-priority",
   "metadata": {},
   "source": [
    "How can you solve the problem ?"
   ]
  },
  {
   "cell_type": "code",
   "execution_count": null,
   "id": "unsigned-collect",
   "metadata": {},
   "outputs": [],
   "source": []
  },
  {
   "cell_type": "markdown",
   "id": "unlike-matthew",
   "metadata": {},
   "source": [
    "# Predict wine quality - regression problem"
   ]
  },
  {
   "cell_type": "markdown",
   "id": "inside-protocol",
   "metadata": {},
   "source": [
    "## Simple Linear regression"
   ]
  },
  {
   "cell_type": "markdown",
   "id": "oriental-refrigerator",
   "metadata": {},
   "source": [
    "Let's try to create a new linear regression. This time, try to find the best model to predict quality in function of pH\n",
    "\n",
    "Follow the same steps as before: \n",
    "- choose a random sample with fixed seed\n",
    "- use seaborn to see the linear model in this sample\n",
    "- calculate the best linear regression\n",
    "- check if the model fits with a new sample"
   ]
  },
  {
   "cell_type": "code",
   "execution_count": 138,
   "id": "multiple-yorkshire",
   "metadata": {},
   "outputs": [
    {
     "name": "stdout",
     "output_type": "stream",
     "text": [
      "[-0.50935696]\n",
      "7.288552642404198\n"
     ]
    }
   ],
   "source": [
    "# Import the model\n",
    "from sklearn.linear_model import LinearRegression\n",
    "\n",
    "# Instanciate the model\n",
    "model = LinearRegression()\n",
    "\n",
    "# Define X and y\n",
    "X = wine_df2[['pH']]\n",
    "y= wine_df2['quality']\n",
    "\n",
    "# Train the model on the data\n",
    "model.fit(X, y)\n",
    "\n",
    "# check results\n",
    "# model's slope (a)\n",
    "print(model.coef_)\n",
    "\n",
    "# model's intercept (b)\n",
    "print(model.intercept_)"
   ]
  },
  {
   "cell_type": "code",
   "execution_count": 139,
   "id": "bf8566f5",
   "metadata": {},
   "outputs": [
    {
     "data": {
      "text/plain": [
       "[<matplotlib.lines.Line2D at 0x13cf4a55cd0>]"
      ]
     },
     "execution_count": 139,
     "metadata": {},
     "output_type": "execute_result"
    },
    {
     "data": {
      "image/png": "[encoded data removed]",
      "text/plain": [
       "<Figure size 432x288 with 1 Axes>"
      ]
     },
     "metadata": {
      "needs_background": "light"
     },
     "output_type": "display_data"
    }
   ],
   "source": [
    "plt.scatter(x, y)\n",
    "y =-0.50935696* x + 7.288552642404198\n",
    "plt.plot(x, y, color='red')"
   ]
  },
  {
   "cell_type": "markdown",
   "id": "canadian-sharp",
   "metadata": {},
   "source": [
    "How good is this model performing? What is the error? is it low or high ?"
   ]
  },
  {
   "cell_type": "code",
   "execution_count": null,
   "id": "attached-quebec",
   "metadata": {},
   "outputs": [],
   "source": []
  },
  {
   "cell_type": "markdown",
   "id": "stuffed-conditions",
   "metadata": {},
   "source": [
    "### Using Holdout method "
   ]
  },
  {
   "cell_type": "markdown",
   "id": "acquired-recovery",
   "metadata": {},
   "source": [
    "Use train split method to divide the dataset in 70% train set and 30% test set"
   ]
  },
  {
   "cell_type": "code",
   "execution_count": 170,
   "id": "composite-consortium",
   "metadata": {},
   "outputs": [
    {
     "data": {
      "text/plain": [
       "-0.1194606883666871"
      ]
     },
     "execution_count": 170,
     "metadata": {},
     "output_type": "execute_result"
    }
   ],
   "source": [
    "from sklearn.model_selection import train_test_split\n",
    "\n",
    "# Choose your feature and your target\n",
    "X = sample_wine_df[['pH']]\n",
    "y = sample_wine_df['quality']\n",
    "\n",
    "# Splitting the data\n",
    "X_train, X_test, y_train, y_test = train_test_split(X, y, test_size=.3, random_state=1)\n",
    "\n",
    "# Choose your model\n",
    "model = LinearRegression()\n",
    "\n",
    "# Fit the model with the train set\n",
    "model.fit(X_train, y_train)\n",
    "\n",
    "# Evaluate the model with the test set\n",
    "model.score(X_test, y_test)"
   ]
  },
  {
   "cell_type": "markdown",
   "id": "affiliated-feeding",
   "metadata": {},
   "source": [
    "Is this score good or bad? What does it means? "
   ]
  },
  {
   "cell_type": "code",
   "execution_count": 126,
   "id": "organizational-powell",
   "metadata": {},
   "outputs": [
    {
     "data": {
      "text/plain": [
       "<matplotlib.collections.PathCollection at 0x13cf4dfaa00>"
      ]
     },
     "execution_count": 126,
     "metadata": {},
     "output_type": "execute_result"
    },
    {
     "data": {
      "image/png": "[encoded data removed]",
      "text/plain": [
       "<Figure size 432x288 with 1 Axes>"
      ]
     },
     "metadata": {
      "needs_background": "light"
     },
     "output_type": "display_data"
    }
   ],
   "source": [
    "plt.scatter(X_test, y_test)"
   ]
  },
  {
   "cell_type": "markdown",
   "id": "funny-netscape",
   "metadata": {},
   "source": [
    "Try another feature. Replace pH with fixed acidity, volatile acidity, ...\n",
    "\n",
    "Which feature increases this value? "
   ]
  },
  {
   "cell_type": "code",
   "execution_count": 143,
   "id": "impressed-piano",
   "metadata": {},
   "outputs": [
    {
     "data": {
      "text/plain": [
       "-0.29503111075329147"
      ]
     },
     "execution_count": 143,
     "metadata": {},
     "output_type": "execute_result"
    }
   ],
   "source": [
    "from sklearn.model_selection import train_test_split\n",
    "# Choose your feature and your target\n",
    "X = wine_df2[['fixed acidity']]\n",
    "y = wine_df2['volatile acidity']\n",
    "\n",
    "# Splitting the data\n",
    "X_train, X_test, y_train, y_test = train_test_split(X, y, test_size=.3, random_state=1)\n",
    "\n",
    "# Choose your model\n",
    "model = LinearRegression()\n",
    "\n",
    "# Fit the model with the train set\n",
    "model.fit(X_train, y_train)\n",
    "\n",
    "# Evaluate the model with the test set\n",
    "model.score(X_test, y_test)"
   ]
  },
  {
   "cell_type": "markdown",
   "id": "hairy-croatia",
   "metadata": {},
   "source": [
    "Do you think you can do better ?"
   ]
  },
  {
   "cell_type": "code",
   "execution_count": 129,
   "id": "demonstrated-fluid",
   "metadata": {},
   "outputs": [
    {
     "data": {
      "text/plain": [
       "<matplotlib.collections.PathCollection at 0x13cf4a8fbe0>"
      ]
     },
     "execution_count": 129,
     "metadata": {},
     "output_type": "execute_result"
    },
    {
     "data": {
      "image/png": "[encoded data removed]",
      "text/plain": [
       "<Figure size 432x288 with 1 Axes>"
      ]
     },
     "metadata": {
      "needs_background": "light"
     },
     "output_type": "display_data"
    }
   ],
   "source": [
    "plt.scatter(X_test, y_test)"
   ]
  },
  {
   "cell_type": "markdown",
   "id": "unlike-momentum",
   "metadata": {},
   "source": [
    "## Multi linear regression"
   ]
  },
  {
   "cell_type": "markdown",
   "id": "deluxe-bennett",
   "metadata": {},
   "source": [
    "Let's add multiple features in the regression model. Then create a new model and compare your results with Simple regression. Is it better or worst? "
   ]
  },
  {
   "cell_type": "code",
   "execution_count": 144,
   "id": "33b1ea76",
   "metadata": {},
   "outputs": [
    {
     "data": {
      "text/plain": [
       "1.0"
      ]
     },
     "execution_count": 144,
     "metadata": {},
     "output_type": "execute_result"
    }
   ],
   "source": [
    "from sklearn.linear_model import LinearRegression\n",
    "y= wine_df2['quality']\n",
    "X = wine_df2[['pH','alcohol', 'fixed acidity', 'density', 'chlorides','quality']]\n",
    "# Splitting the data\n",
    "X_train, X_test, y_train, y_test = train_test_split(X, y, test_size=.3, random_state=1)\n",
    "\n",
    "# Choose your model\n",
    "model = LinearRegression()\n",
    "\n",
    "# Fit the model with the train set\n",
    "model.fit(X_train, y_train)\n",
    "\n",
    "# Evaluate the model with the test set\n",
    "model.score(X_test, y_test)"
   ]
  },
  {
   "cell_type": "code",
   "execution_count": 145,
   "id": "ede4d88b",
   "metadata": {},
   "outputs": [
    {
     "data": {
      "text/plain": [
       "0.13940340562378895"
      ]
     },
     "execution_count": 145,
     "metadata": {},
     "output_type": "execute_result"
    }
   ],
   "source": [
    "from sklearn.linear_model import LinearRegression\n",
    "y= wine_df2['quality']\n",
    "X = wine_df2[['pH','alcohol', 'fixed acidity', 'density', 'chlorides']]\n",
    "# Splitting the data\n",
    "X_train, X_test, y_train, y_test = train_test_split(X, y, test_size=.3, random_state=1)\n",
    "\n",
    "# Choose your model\n",
    "model = LinearRegression()\n",
    "\n",
    "# Fit the model with the train set\n",
    "model.fit(X_train, y_train)\n",
    "\n",
    "# Evaluate the model with the test set\n",
    "model.score(X_test, y_test)"
   ]
  },
  {
   "cell_type": "code",
   "execution_count": null,
   "id": "65dbabc9",
   "metadata": {},
   "outputs": [],
   "source": [
    "\n"
   ]
  },
  {
   "cell_type": "code",
   "execution_count": null,
   "id": "7c265e5c",
   "metadata": {},
   "outputs": [],
   "source": [
    "\n"
   ]
  },
  {
   "cell_type": "code",
   "execution_count": null,
   "id": "expensive-buffer",
   "metadata": {},
   "outputs": [],
   "source": []
  },
  {
   "cell_type": "code",
   "execution_count": null,
   "id": "coordinated-estonia",
   "metadata": {},
   "outputs": [],
   "source": []
  },
  {
   "cell_type": "markdown",
   "id": "limited-officer",
   "metadata": {},
   "source": [
    "Try with all the features (all without column quality of course). \n",
    "\n",
    "Create a new model and compare with the last one. Is it better? Why? \n",
    "\n"
   ]
  },
  {
   "cell_type": "code",
   "execution_count": 146,
   "id": "breathing-parts",
   "metadata": {},
   "outputs": [
    {
     "data": {
      "text/html": [
       "<div>\n",
       "<style scoped>\n",
       "    .dataframe tbody tr th:only-of-type {\n",
       "        vertical-align: middle;\n",
       "    }\n",
       "\n",
       "    .dataframe tbody tr th {\n",
       "        vertical-align: top;\n",
       "    }\n",
       "\n",
       "    .dataframe thead th {\n",
       "        text-align: right;\n",
       "    }\n",
       "</style>\n",
       "<table border=\"1\" class=\"dataframe\">\n",
       "  <thead>\n",
       "    <tr style=\"text-align: right;\">\n",
       "      <th></th>\n",
       "      <th>fixed acidity</th>\n",
       "      <th>volatile acidity</th>\n",
       "      <th>citric acid</th>\n",
       "      <th>residual sugar</th>\n",
       "      <th>chlorides</th>\n",
       "      <th>free sulfur dioxide</th>\n",
       "      <th>total sulfur dioxide</th>\n",
       "      <th>density</th>\n",
       "      <th>pH</th>\n",
       "      <th>sulphates</th>\n",
       "      <th>alcohol</th>\n",
       "      <th>quality</th>\n",
       "    </tr>\n",
       "  </thead>\n",
       "  <tbody>\n",
       "    <tr>\n",
       "      <th>75</th>\n",
       "      <td>8.8</td>\n",
       "      <td>0.410</td>\n",
       "      <td>0.64</td>\n",
       "      <td>2.2</td>\n",
       "      <td>0.093</td>\n",
       "      <td>9.0</td>\n",
       "      <td>42.0</td>\n",
       "      <td>0.99860</td>\n",
       "      <td>3.54</td>\n",
       "      <td>0.66</td>\n",
       "      <td>10.5</td>\n",
       "      <td>5</td>\n",
       "    </tr>\n",
       "    <tr>\n",
       "      <th>1283</th>\n",
       "      <td>8.7</td>\n",
       "      <td>0.630</td>\n",
       "      <td>0.28</td>\n",
       "      <td>2.7</td>\n",
       "      <td>0.096</td>\n",
       "      <td>17.0</td>\n",
       "      <td>69.0</td>\n",
       "      <td>0.99734</td>\n",
       "      <td>3.26</td>\n",
       "      <td>0.63</td>\n",
       "      <td>10.2</td>\n",
       "      <td>6</td>\n",
       "    </tr>\n",
       "    <tr>\n",
       "      <th>408</th>\n",
       "      <td>10.4</td>\n",
       "      <td>0.340</td>\n",
       "      <td>0.58</td>\n",
       "      <td>3.7</td>\n",
       "      <td>0.174</td>\n",
       "      <td>6.0</td>\n",
       "      <td>16.0</td>\n",
       "      <td>0.99700</td>\n",
       "      <td>3.19</td>\n",
       "      <td>0.70</td>\n",
       "      <td>11.3</td>\n",
       "      <td>6</td>\n",
       "    </tr>\n",
       "    <tr>\n",
       "      <th>1281</th>\n",
       "      <td>7.1</td>\n",
       "      <td>0.460</td>\n",
       "      <td>0.20</td>\n",
       "      <td>1.9</td>\n",
       "      <td>0.077</td>\n",
       "      <td>28.0</td>\n",
       "      <td>54.0</td>\n",
       "      <td>0.99560</td>\n",
       "      <td>3.37</td>\n",
       "      <td>0.64</td>\n",
       "      <td>10.4</td>\n",
       "      <td>6</td>\n",
       "    </tr>\n",
       "    <tr>\n",
       "      <th>1118</th>\n",
       "      <td>7.1</td>\n",
       "      <td>0.390</td>\n",
       "      <td>0.12</td>\n",
       "      <td>2.1</td>\n",
       "      <td>0.065</td>\n",
       "      <td>14.0</td>\n",
       "      <td>24.0</td>\n",
       "      <td>0.99252</td>\n",
       "      <td>3.30</td>\n",
       "      <td>0.53</td>\n",
       "      <td>13.3</td>\n",
       "      <td>6</td>\n",
       "    </tr>\n",
       "    <tr>\n",
       "      <th>...</th>\n",
       "      <td>...</td>\n",
       "      <td>...</td>\n",
       "      <td>...</td>\n",
       "      <td>...</td>\n",
       "      <td>...</td>\n",
       "      <td>...</td>\n",
       "      <td>...</td>\n",
       "      <td>...</td>\n",
       "      <td>...</td>\n",
       "      <td>...</td>\n",
       "      <td>...</td>\n",
       "      <td>...</td>\n",
       "    </tr>\n",
       "    <tr>\n",
       "      <th>529</th>\n",
       "      <td>9.9</td>\n",
       "      <td>0.630</td>\n",
       "      <td>0.24</td>\n",
       "      <td>2.4</td>\n",
       "      <td>0.077</td>\n",
       "      <td>6.0</td>\n",
       "      <td>33.0</td>\n",
       "      <td>0.99740</td>\n",
       "      <td>3.09</td>\n",
       "      <td>0.57</td>\n",
       "      <td>9.4</td>\n",
       "      <td>5</td>\n",
       "    </tr>\n",
       "    <tr>\n",
       "      <th>912</th>\n",
       "      <td>10.0</td>\n",
       "      <td>0.460</td>\n",
       "      <td>0.44</td>\n",
       "      <td>2.9</td>\n",
       "      <td>0.065</td>\n",
       "      <td>4.0</td>\n",
       "      <td>8.0</td>\n",
       "      <td>0.99674</td>\n",
       "      <td>3.33</td>\n",
       "      <td>0.62</td>\n",
       "      <td>12.2</td>\n",
       "      <td>6</td>\n",
       "    </tr>\n",
       "    <tr>\n",
       "      <th>1227</th>\n",
       "      <td>9.0</td>\n",
       "      <td>0.580</td>\n",
       "      <td>0.25</td>\n",
       "      <td>2.0</td>\n",
       "      <td>0.104</td>\n",
       "      <td>8.0</td>\n",
       "      <td>21.0</td>\n",
       "      <td>0.99769</td>\n",
       "      <td>3.27</td>\n",
       "      <td>0.72</td>\n",
       "      <td>9.6</td>\n",
       "      <td>5</td>\n",
       "    </tr>\n",
       "    <tr>\n",
       "      <th>1374</th>\n",
       "      <td>6.8</td>\n",
       "      <td>0.815</td>\n",
       "      <td>0.00</td>\n",
       "      <td>1.2</td>\n",
       "      <td>0.267</td>\n",
       "      <td>16.0</td>\n",
       "      <td>29.0</td>\n",
       "      <td>0.99471</td>\n",
       "      <td>3.32</td>\n",
       "      <td>0.51</td>\n",
       "      <td>9.8</td>\n",
       "      <td>3</td>\n",
       "    </tr>\n",
       "    <tr>\n",
       "      <th>1198</th>\n",
       "      <td>7.7</td>\n",
       "      <td>0.260</td>\n",
       "      <td>0.26</td>\n",
       "      <td>2.0</td>\n",
       "      <td>0.052</td>\n",
       "      <td>19.0</td>\n",
       "      <td>77.0</td>\n",
       "      <td>0.99510</td>\n",
       "      <td>3.15</td>\n",
       "      <td>0.79</td>\n",
       "      <td>10.9</td>\n",
       "      <td>6</td>\n",
       "    </tr>\n",
       "  </tbody>\n",
       "</table>\n",
       "<p>100 rows × 12 columns</p>\n",
       "</div>"
      ],
      "text/plain": [
       "      fixed acidity  volatile acidity  citric acid  residual sugar  chlorides  \\\n",
       "75              8.8             0.410         0.64             2.2      0.093   \n",
       "1283            8.7             0.630         0.28             2.7      0.096   \n",
       "408            10.4             0.340         0.58             3.7      0.174   \n",
       "1281            7.1             0.460         0.20             1.9      0.077   \n",
       "1118            7.1             0.390         0.12             2.1      0.065   \n",
       "...             ...               ...          ...             ...        ...   \n",
       "529             9.9             0.630         0.24             2.4      0.077   \n",
       "912            10.0             0.460         0.44             2.9      0.065   \n",
       "1227            9.0             0.580         0.25             2.0      0.104   \n",
       "1374            6.8             0.815         0.00             1.2      0.267   \n",
       "1198            7.7             0.260         0.26             2.0      0.052   \n",
       "\n",
       "      free sulfur dioxide  total sulfur dioxide  density    pH  sulphates  \\\n",
       "75                    9.0                  42.0  0.99860  3.54       0.66   \n",
       "1283                 17.0                  69.0  0.99734  3.26       0.63   \n",
       "408                   6.0                  16.0  0.99700  3.19       0.70   \n",
       "1281                 28.0                  54.0  0.99560  3.37       0.64   \n",
       "1118                 14.0                  24.0  0.99252  3.30       0.53   \n",
       "...                   ...                   ...      ...   ...        ...   \n",
       "529                   6.0                  33.0  0.99740  3.09       0.57   \n",
       "912                   4.0                   8.0  0.99674  3.33       0.62   \n",
       "1227                  8.0                  21.0  0.99769  3.27       0.72   \n",
       "1374                 16.0                  29.0  0.99471  3.32       0.51   \n",
       "1198                 19.0                  77.0  0.99510  3.15       0.79   \n",
       "\n",
       "      alcohol  quality  \n",
       "75       10.5        5  \n",
       "1283     10.2        6  \n",
       "408      11.3        6  \n",
       "1281     10.4        6  \n",
       "1118     13.3        6  \n",
       "...       ...      ...  \n",
       "529       9.4        5  \n",
       "912      12.2        6  \n",
       "1227      9.6        5  \n",
       "1374      9.8        3  \n",
       "1198     10.9        6  \n",
       "\n",
       "[100 rows x 12 columns]"
      ]
     },
     "execution_count": 146,
     "metadata": {},
     "output_type": "execute_result"
    }
   ],
   "source": [
    "X = sample_wine_df[['pH','alcohol', 'fixed acidity', 'density', 'chlorides']]\n",
    "sample_wine_df"
   ]
  },
  {
   "cell_type": "markdown",
   "id": "economic-hygiene",
   "metadata": {},
   "source": [
    "If you add the column quality in the variable X, what would happen ? "
   ]
  },
  {
   "cell_type": "code",
   "execution_count": 148,
   "id": "active-annex",
   "metadata": {},
   "outputs": [
    {
     "data": {
      "text/plain": [
       "(array([4.72825808e-02, 3.43012992e+00, 5.23190209e-01, 3.89379467e-05,\n",
       "        4.03841748e-02]),\n",
       " array([0.99730401, 0.32993774, 0.91376787, 0.99999994, 0.99786754]))"
      ]
     },
     "execution_count": 148,
     "metadata": {},
     "output_type": "execute_result"
    }
   ],
   "source": [
    "X = wine_df2[['pH','alcohol', 'fixed acidity', 'density', 'chlorides']]\n",
    "#Chi2 select the features with best dependency with target\n",
    "from sklearn.feature_selection import SelectKBest, chi2\n",
    "chi2(X, y)"
   ]
  },
  {
   "cell_type": "code",
   "execution_count": 149,
   "id": "9c7f088b",
   "metadata": {},
   "outputs": [
    {
     "data": {
      "text/plain": [
       "array(['pH', 'alcohol', 'fixed acidity'], dtype=object)"
      ]
     },
     "execution_count": 149,
     "metadata": {},
     "output_type": "execute_result"
    }
   ],
   "source": [
    "#select K best features (I chose K=3), then fit_transform it/ get_support returns a numpy boolean array (True==best features) / \n",
    "#then Boolean indexing to show the columns\n",
    "selector = SelectKBest(chi2, k=3)\n",
    "selector.fit_transform(X, y)\n",
    "selector.get_support()\n",
    "np.array(X.columns)[selector.get_support()]\n",
    "\n",
    "#'Free sulfur' & 'total sulfur' are very correlated so we can choose only one."
   ]
  },
  {
   "cell_type": "markdown",
   "id": "contrary-return",
   "metadata": {},
   "source": [
    "Do you think that there are features that are not helping to increase the performance? Which ones do you suspect? \n",
    "\n",
    "Do you know a method to identify them? "
   ]
  },
  {
   "cell_type": "code",
   "execution_count": null,
   "id": "accepting-chapel",
   "metadata": {},
   "outputs": [],
   "source": []
  },
  {
   "cell_type": "markdown",
   "id": "independent-stage",
   "metadata": {},
   "source": [
    "How can you find the best combination of features to increase the performance of the model?"
   ]
  },
  {
   "cell_type": "code",
   "execution_count": null,
   "id": "stuffed-spank",
   "metadata": {},
   "outputs": [],
   "source": []
  },
  {
   "cell_type": "markdown",
   "id": "biological-leather",
   "metadata": {},
   "source": [
    "# Predict wine quality - classification problem"
   ]
  },
  {
   "cell_type": "markdown",
   "id": "limiting-preview",
   "metadata": {},
   "source": [
    "## convert quality column in 2 classes"
   ]
  },
  {
   "cell_type": "markdown",
   "id": "deluxe-disorder",
   "metadata": {},
   "source": [
    "Create a classification version (good or bad) of target variable (quality). To do so, let's consider that the wine with quality equal of higher than 7 is good quality and the rest bad quality. \n",
    "\n",
    "You can call the new column goodquality"
   ]
  },
  {
   "cell_type": "code",
   "execution_count": 120,
   "id": "brutal-uncertainty",
   "metadata": {
    "scrolled": true
   },
   "outputs": [
    {
     "data": {
      "text/html": [
       "<div>\n",
       "<style scoped>\n",
       "    .dataframe tbody tr th:only-of-type {\n",
       "        vertical-align: middle;\n",
       "    }\n",
       "\n",
       "    .dataframe tbody tr th {\n",
       "        vertical-align: top;\n",
       "    }\n",
       "\n",
       "    .dataframe thead th {\n",
       "        text-align: right;\n",
       "    }\n",
       "</style>\n",
       "<table border=\"1\" class=\"dataframe\">\n",
       "  <thead>\n",
       "    <tr style=\"text-align: right;\">\n",
       "      <th></th>\n",
       "      <th>fixed acidity</th>\n",
       "      <th>volatile acidity</th>\n",
       "      <th>citric acid</th>\n",
       "      <th>residual sugar</th>\n",
       "      <th>chlorides</th>\n",
       "      <th>free sulfur dioxide</th>\n",
       "      <th>total sulfur dioxide</th>\n",
       "      <th>density</th>\n",
       "      <th>pH</th>\n",
       "      <th>sulphates</th>\n",
       "      <th>alcohol</th>\n",
       "      <th>quality</th>\n",
       "      <th>goodquality</th>\n",
       "    </tr>\n",
       "  </thead>\n",
       "  <tbody>\n",
       "    <tr>\n",
       "      <th>0</th>\n",
       "      <td>7.4</td>\n",
       "      <td>0.700</td>\n",
       "      <td>0.00</td>\n",
       "      <td>1.9</td>\n",
       "      <td>0.076</td>\n",
       "      <td>11.0</td>\n",
       "      <td>34.0</td>\n",
       "      <td>0.99780</td>\n",
       "      <td>3.51</td>\n",
       "      <td>0.56</td>\n",
       "      <td>9.4</td>\n",
       "      <td>5</td>\n",
       "      <td>0</td>\n",
       "    </tr>\n",
       "    <tr>\n",
       "      <th>1</th>\n",
       "      <td>7.8</td>\n",
       "      <td>0.880</td>\n",
       "      <td>0.00</td>\n",
       "      <td>2.6</td>\n",
       "      <td>0.098</td>\n",
       "      <td>25.0</td>\n",
       "      <td>67.0</td>\n",
       "      <td>0.99680</td>\n",
       "      <td>3.20</td>\n",
       "      <td>0.68</td>\n",
       "      <td>9.8</td>\n",
       "      <td>5</td>\n",
       "      <td>0</td>\n",
       "    </tr>\n",
       "    <tr>\n",
       "      <th>2</th>\n",
       "      <td>7.8</td>\n",
       "      <td>0.760</td>\n",
       "      <td>0.04</td>\n",
       "      <td>2.3</td>\n",
       "      <td>0.092</td>\n",
       "      <td>15.0</td>\n",
       "      <td>54.0</td>\n",
       "      <td>0.99700</td>\n",
       "      <td>3.26</td>\n",
       "      <td>0.65</td>\n",
       "      <td>9.8</td>\n",
       "      <td>5</td>\n",
       "      <td>0</td>\n",
       "    </tr>\n",
       "    <tr>\n",
       "      <th>3</th>\n",
       "      <td>11.2</td>\n",
       "      <td>0.280</td>\n",
       "      <td>0.56</td>\n",
       "      <td>1.9</td>\n",
       "      <td>0.075</td>\n",
       "      <td>17.0</td>\n",
       "      <td>60.0</td>\n",
       "      <td>0.99800</td>\n",
       "      <td>3.16</td>\n",
       "      <td>0.58</td>\n",
       "      <td>9.8</td>\n",
       "      <td>6</td>\n",
       "      <td>0</td>\n",
       "    </tr>\n",
       "    <tr>\n",
       "      <th>4</th>\n",
       "      <td>7.4</td>\n",
       "      <td>0.700</td>\n",
       "      <td>0.00</td>\n",
       "      <td>1.9</td>\n",
       "      <td>0.076</td>\n",
       "      <td>11.0</td>\n",
       "      <td>34.0</td>\n",
       "      <td>0.99780</td>\n",
       "      <td>3.51</td>\n",
       "      <td>0.56</td>\n",
       "      <td>9.4</td>\n",
       "      <td>5</td>\n",
       "      <td>0</td>\n",
       "    </tr>\n",
       "    <tr>\n",
       "      <th>...</th>\n",
       "      <td>...</td>\n",
       "      <td>...</td>\n",
       "      <td>...</td>\n",
       "      <td>...</td>\n",
       "      <td>...</td>\n",
       "      <td>...</td>\n",
       "      <td>...</td>\n",
       "      <td>...</td>\n",
       "      <td>...</td>\n",
       "      <td>...</td>\n",
       "      <td>...</td>\n",
       "      <td>...</td>\n",
       "      <td>...</td>\n",
       "    </tr>\n",
       "    <tr>\n",
       "      <th>1594</th>\n",
       "      <td>6.2</td>\n",
       "      <td>0.600</td>\n",
       "      <td>0.08</td>\n",
       "      <td>2.0</td>\n",
       "      <td>0.090</td>\n",
       "      <td>32.0</td>\n",
       "      <td>44.0</td>\n",
       "      <td>0.99490</td>\n",
       "      <td>3.45</td>\n",
       "      <td>0.58</td>\n",
       "      <td>10.5</td>\n",
       "      <td>5</td>\n",
       "      <td>0</td>\n",
       "    </tr>\n",
       "    <tr>\n",
       "      <th>1595</th>\n",
       "      <td>5.9</td>\n",
       "      <td>0.550</td>\n",
       "      <td>0.10</td>\n",
       "      <td>2.2</td>\n",
       "      <td>0.062</td>\n",
       "      <td>39.0</td>\n",
       "      <td>51.0</td>\n",
       "      <td>0.99512</td>\n",
       "      <td>3.52</td>\n",
       "      <td>0.76</td>\n",
       "      <td>11.2</td>\n",
       "      <td>6</td>\n",
       "      <td>0</td>\n",
       "    </tr>\n",
       "    <tr>\n",
       "      <th>1596</th>\n",
       "      <td>6.3</td>\n",
       "      <td>0.510</td>\n",
       "      <td>0.13</td>\n",
       "      <td>2.3</td>\n",
       "      <td>0.076</td>\n",
       "      <td>29.0</td>\n",
       "      <td>40.0</td>\n",
       "      <td>0.99574</td>\n",
       "      <td>3.42</td>\n",
       "      <td>0.75</td>\n",
       "      <td>11.0</td>\n",
       "      <td>6</td>\n",
       "      <td>0</td>\n",
       "    </tr>\n",
       "    <tr>\n",
       "      <th>1597</th>\n",
       "      <td>5.9</td>\n",
       "      <td>0.645</td>\n",
       "      <td>0.12</td>\n",
       "      <td>2.0</td>\n",
       "      <td>0.075</td>\n",
       "      <td>32.0</td>\n",
       "      <td>44.0</td>\n",
       "      <td>0.99547</td>\n",
       "      <td>3.57</td>\n",
       "      <td>0.71</td>\n",
       "      <td>10.2</td>\n",
       "      <td>5</td>\n",
       "      <td>0</td>\n",
       "    </tr>\n",
       "    <tr>\n",
       "      <th>1598</th>\n",
       "      <td>6.0</td>\n",
       "      <td>0.310</td>\n",
       "      <td>0.47</td>\n",
       "      <td>3.6</td>\n",
       "      <td>0.067</td>\n",
       "      <td>18.0</td>\n",
       "      <td>42.0</td>\n",
       "      <td>0.99549</td>\n",
       "      <td>3.39</td>\n",
       "      <td>0.66</td>\n",
       "      <td>11.0</td>\n",
       "      <td>6</td>\n",
       "      <td>0</td>\n",
       "    </tr>\n",
       "  </tbody>\n",
       "</table>\n",
       "<p>1599 rows × 13 columns</p>\n",
       "</div>"
      ],
      "text/plain": [
       "      fixed acidity  volatile acidity  citric acid  residual sugar  chlorides  \\\n",
       "0               7.4             0.700         0.00             1.9      0.076   \n",
       "1               7.8             0.880         0.00             2.6      0.098   \n",
       "2               7.8             0.760         0.04             2.3      0.092   \n",
       "3              11.2             0.280         0.56             1.9      0.075   \n",
       "4               7.4             0.700         0.00             1.9      0.076   \n",
       "...             ...               ...          ...             ...        ...   \n",
       "1594            6.2             0.600         0.08             2.0      0.090   \n",
       "1595            5.9             0.550         0.10             2.2      0.062   \n",
       "1596            6.3             0.510         0.13             2.3      0.076   \n",
       "1597            5.9             0.645         0.12             2.0      0.075   \n",
       "1598            6.0             0.310         0.47             3.6      0.067   \n",
       "\n",
       "      free sulfur dioxide  total sulfur dioxide  density    pH  sulphates  \\\n",
       "0                    11.0                  34.0  0.99780  3.51       0.56   \n",
       "1                    25.0                  67.0  0.99680  3.20       0.68   \n",
       "2                    15.0                  54.0  0.99700  3.26       0.65   \n",
       "3                    17.0                  60.0  0.99800  3.16       0.58   \n",
       "4                    11.0                  34.0  0.99780  3.51       0.56   \n",
       "...                   ...                   ...      ...   ...        ...   \n",
       "1594                 32.0                  44.0  0.99490  3.45       0.58   \n",
       "1595                 39.0                  51.0  0.99512  3.52       0.76   \n",
       "1596                 29.0                  40.0  0.99574  3.42       0.75   \n",
       "1597                 32.0                  44.0  0.99547  3.57       0.71   \n",
       "1598                 18.0                  42.0  0.99549  3.39       0.66   \n",
       "\n",
       "      alcohol  quality  goodquality  \n",
       "0         9.4        5            0  \n",
       "1         9.8        5            0  \n",
       "2         9.8        5            0  \n",
       "3         9.8        6            0  \n",
       "4         9.4        5            0  \n",
       "...       ...      ...          ...  \n",
       "1594     10.5        5            0  \n",
       "1595     11.2        6            0  \n",
       "1596     11.0        6            0  \n",
       "1597     10.2        5            0  \n",
       "1598     11.0        6            0  \n",
       "\n",
       "[1599 rows x 13 columns]"
      ]
     },
     "execution_count": 120,
     "metadata": {},
     "output_type": "execute_result"
    }
   ],
   "source": [
    "# Create Classification version of target variable\n",
    "red_df = wine_df.copy()\n",
    "red_df['goodquality'] = [1 if x >= 7 else 0 for x in red_df['quality']]\n",
    "\n",
    "# Separate feature variables and target variable\n",
    "X = red_df.drop(['quality','goodquality'], axis = 1)\n",
    "y = red_df['goodquality']\n",
    "\n",
    "red_df['goodquality'].value_counts()\n",
    "red_df"
   ]
  },
  {
   "cell_type": "code",
   "execution_count": 152,
   "id": "b15f7477",
   "metadata": {},
   "outputs": [
    {
     "data": {
      "text/plain": [
       "0    1382\n",
       "1     217\n",
       "Name: goodquality, dtype: int64"
      ]
     },
     "execution_count": 152,
     "metadata": {},
     "output_type": "execute_result"
    }
   ],
   "source": [
    "red_df['goodquality'].value_counts()"
   ]
  },
  {
   "cell_type": "code",
   "execution_count": 154,
   "id": "c95c7991",
   "metadata": {},
   "outputs": [
    {
     "data": {
      "image/png": "[encoded data removed]",
      "text/plain": [
       "<Figure size 432x216 with 1 Axes>"
      ]
     },
     "metadata": {
      "needs_background": "light"
     },
     "output_type": "display_data"
    }
   ],
   "source": [
    "import matplotlib as plt\n",
    "import seaborn as sns\n",
    "ax = red_df['goodquality'].hist(bins=50, figsize=(6,3))\n",
    "ax.set_title('Distribution qualité');"
   ]
  },
  {
   "cell_type": "code",
   "execution_count": 157,
   "id": "030e7dc0",
   "metadata": {},
   "outputs": [
    {
     "data": {
      "image/png": "[encoded data removed]",
      "text/plain": [
       "<Figure size 432x216 with 1 Axes>"
      ]
     },
     "metadata": {
      "needs_background": "light"
     },
     "output_type": "display_data"
    }
   ],
   "source": [
    "ax =  red_df[ red_df['goodquality'] == 'white']['quality'].hist(bins=25, figsize=(6,3), label='white', alpha=0.5)\n",
    "red_df[ red_df['goodquality'] == 'red']['quality'].hist(bins=25, ax=ax, label='red', alpha=0.5)\n",
    "ax.set_title(\"Distribution des scores pour les deux classes\")\n",
    "ax.plot([1, 1], [0, 100], 'g--', label=\"frontière ?\")\n",
    "ax.legend();"
   ]
  },
  {
   "cell_type": "code",
   "execution_count": 158,
   "id": "7a297077",
   "metadata": {},
   "outputs": [],
   "source": [
    "# Normalize feature variables\n",
    "from sklearn.preprocessing import StandardScaler\n",
    "X_features = X\n",
    "X = StandardScaler().fit_transform(X)"
   ]
  },
  {
   "cell_type": "code",
   "execution_count": 159,
   "id": "4dd43cc4",
   "metadata": {},
   "outputs": [
    {
     "data": {
      "text/plain": [
       "0.4"
      ]
     },
     "execution_count": 159,
     "metadata": {},
     "output_type": "execute_result"
    }
   ],
   "source": [
    "# Splitting the data\n",
    "from sklearn.linear_model import LogisticRegression\n",
    "from sklearn.model_selection import train_test_split\n",
    "X_train, X_test, y_train, y_test = train_test_split(X, y, test_size=.25, random_state=0)\n",
    "# Choose your model\n",
    "model1 = LogisticRegression()\n",
    "\n",
    "# Fit the model with the train set\n",
    "model1.fit(X_train, y_train)\n",
    "\n",
    "# Evaluate the model with the test set\n",
    "model1.score(X_test, y_test)"
   ]
  },
  {
   "cell_type": "code",
   "execution_count": 160,
   "id": "f7841109",
   "metadata": {},
   "outputs": [
    {
     "name": "stdout",
     "output_type": "stream",
     "text": [
      "Feature: 0 Score: 0.024990552671674333\n",
      "Feature: 1 Score: -1.0835902586934347\n",
      "Feature: 2 Score: -0.18256394841071513\n",
      "Feature: 3 Score: 0.016331269765474398\n",
      "Feature: 4 Score: -1.874225158099199\n",
      "Feature: 5 Score: 0.004361333309096987\n",
      "Feature: 6 Score: -0.0032645797030685245\n",
      "Feature: 7 Score: -17.88116383249591\n",
      "Feature: 8 Score: -0.413653143821759\n",
      "Feature: 9 Score: 0.9163344127211313\n",
      "Feature: 10 Score: 0.27619769922688764\n"
     ]
    }
   ],
   "source": [
    "X=red_df[[\"fixed acidity\",\"volatile acidity\",\"citric acid\",\"residual sugar\",\"chlorides\",\"free sulfur dioxide\",\"total sulfur dioxide\",\"density\",\"pH\",\"sulphates\",\"alcohol\"]]\n",
    "y = red_df['quality']\n",
    "# Splitting the data\n",
    "X_train, X_test, y_train, y_test = train_test_split(X, y, test_size=.3, random_state=1)\n",
    "# define the model\n",
    "model1 = LinearRegression()\n",
    "# fit the model\n",
    "model1.fit(X, y)\n",
    "# get importance\n",
    "importance = model1.coef_\n",
    "#print the score for each feature\n",
    "for i,v in enumerate(importance):\n",
    "    print('Feature:', i, 'Score:', v)"
   ]
  },
  {
   "cell_type": "markdown",
   "id": "accredited-logistics",
   "metadata": {},
   "source": [
    "How many samples are considered as good and how many are bad? Is this balanced"
   ]
  },
  {
   "cell_type": "code",
   "execution_count": null,
   "id": "wired-community",
   "metadata": {},
   "outputs": [],
   "source": []
  },
  {
   "cell_type": "markdown",
   "id": "european-registration",
   "metadata": {},
   "source": [
    "## Simple Logistic regression"
   ]
  },
  {
   "cell_type": "markdown",
   "id": "frozen-internship",
   "metadata": {},
   "source": [
    "Try to create a first logistic regression model from a sample"
   ]
  },
  {
   "cell_type": "code",
   "execution_count": 161,
   "id": "hidden-breakfast",
   "metadata": {},
   "outputs": [
    {
     "name": "stdout",
     "output_type": "stream",
     "text": [
      "              precision    recall  f1-score   support\n",
      "\n",
      "           3       0.00      0.00      0.00         2\n",
      "           4       0.00      0.00      0.00        21\n",
      "           5       0.65      0.76      0.70       207\n",
      "           6       0.56      0.59      0.57       195\n",
      "           7       0.42      0.27      0.33        52\n",
      "           8       0.00      0.00      0.00         3\n",
      "\n",
      "    accuracy                           0.60       480\n",
      "   macro avg       0.27      0.27      0.27       480\n",
      "weighted avg       0.56      0.60      0.57       480\n",
      "\n"
     ]
    },
    {
     "name": "stderr",
     "output_type": "stream",
     "text": [
      "C:\\Users\\simplon\\anaconda3\\lib\\site-packages\\sklearn\\linear_model\\_logistic.py:763: ConvergenceWarning: lbfgs failed to converge (status=1):\n",
      "STOP: TOTAL NO. of ITERATIONS REACHED LIMIT.\n",
      "\n",
      "Increase the number of iterations (max_iter) or scale the data as shown in:\n",
      "    https://scikit-learn.org/stable/modules/preprocessing.html\n",
      "Please also refer to the documentation for alternative solver options:\n",
      "    https://scikit-learn.org/stable/modules/linear_model.html#logistic-regression\n",
      "  n_iter_i = _check_optimize_result(\n",
      "C:\\Users\\simplon\\anaconda3\\lib\\site-packages\\sklearn\\metrics\\_classification.py:1245: UndefinedMetricWarning: Precision and F-score are ill-defined and being set to 0.0 in labels with no predicted samples. Use `zero_division` parameter to control this behavior.\n",
      "  _warn_prf(average, modifier, msg_start, len(result))\n",
      "C:\\Users\\simplon\\anaconda3\\lib\\site-packages\\sklearn\\metrics\\_classification.py:1245: UndefinedMetricWarning: Precision and F-score are ill-defined and being set to 0.0 in labels with no predicted samples. Use `zero_division` parameter to control this behavior.\n",
      "  _warn_prf(average, modifier, msg_start, len(result))\n",
      "C:\\Users\\simplon\\anaconda3\\lib\\site-packages\\sklearn\\metrics\\_classification.py:1245: UndefinedMetricWarning: Precision and F-score are ill-defined and being set to 0.0 in labels with no predicted samples. Use `zero_division` parameter to control this behavior.\n",
      "  _warn_prf(average, modifier, msg_start, len(result))\n"
     ]
    }
   ],
   "source": [
    "from sklearn.metrics import classification_report\n",
    "\n",
    "model1 = LogisticRegression(max_iter=1000)\n",
    "model1.fit(X_train, y_train)\n",
    "y_pred1 = model1.predict(X_test)\n",
    "\n",
    "print(classification_report(y_test, y_pred1))"
   ]
  },
  {
   "cell_type": "code",
   "execution_count": 165,
   "id": "bbbeb5db",
   "metadata": {},
   "outputs": [
    {
     "data": {
      "text/plain": [
       "0.5895833333333333"
      ]
     },
     "execution_count": 165,
     "metadata": {},
     "output_type": "execute_result"
    }
   ],
   "source": [
    "from sklearn.linear_model import LogisticRegression\n",
    "from sklearn.pipeline import make_pipeline\n",
    "from sklearn.preprocessing import StandardScaler\n",
    "\n",
    "# Splitting the data\n",
    "X_train, X_test, y_train, y_test = train_test_split(X, y, test_size=.3, random_state=1)\n",
    "\n",
    "\n",
    "pipe = make_pipeline(StandardScaler(), LogisticRegression(max_iter=1000))\n",
    "\n",
    "pipe = make_pipeline(StandardScaler(), LogisticRegression(max_iter=1000))\n",
    "pipe.fit(X_train, y_train)  # apply scaling on training data\n",
    "\n",
    "pipe.score(X_test, y_test)  # apply scaling on testing data, without leaking training data.\n"
   ]
  },
  {
   "cell_type": "code",
   "execution_count": null,
   "id": "f2e0a351",
   "metadata": {},
   "outputs": [],
   "source": []
  },
  {
   "cell_type": "markdown",
   "id": "perfect-holiday",
   "metadata": {},
   "source": [
    "In classification, how do you evaluate the performance of the model ?"
   ]
  },
  {
   "cell_type": "code",
   "execution_count": null,
   "id": "considered-serbia",
   "metadata": {},
   "outputs": [],
   "source": [
    "In Logitic Regression with accurency"
   ]
  },
  {
   "cell_type": "code",
   "execution_count": 166,
   "id": "62efbc07",
   "metadata": {},
   "outputs": [
    {
     "data": {
      "text/html": [
       "<div>\n",
       "<style scoped>\n",
       "    .dataframe tbody tr th:only-of-type {\n",
       "        vertical-align: middle;\n",
       "    }\n",
       "\n",
       "    .dataframe tbody tr th {\n",
       "        vertical-align: top;\n",
       "    }\n",
       "\n",
       "    .dataframe thead th {\n",
       "        text-align: right;\n",
       "    }\n",
       "</style>\n",
       "<table border=\"1\" class=\"dataframe\">\n",
       "  <thead>\n",
       "    <tr style=\"text-align: right;\">\n",
       "      <th></th>\n",
       "      <th>fixed acidity</th>\n",
       "      <th>volatile acidity</th>\n",
       "      <th>citric acid</th>\n",
       "      <th>residual sugar</th>\n",
       "      <th>chlorides</th>\n",
       "      <th>free sulfur dioxide</th>\n",
       "      <th>total sulfur dioxide</th>\n",
       "      <th>density</th>\n",
       "      <th>pH</th>\n",
       "      <th>sulphates</th>\n",
       "      <th>alcohol</th>\n",
       "      <th>quality</th>\n",
       "    </tr>\n",
       "  </thead>\n",
       "  <tbody>\n",
       "    <tr>\n",
       "      <th>fixed acidity</th>\n",
       "      <td>1.000000</td>\n",
       "      <td>-0.256131</td>\n",
       "      <td>0.671703</td>\n",
       "      <td>0.114777</td>\n",
       "      <td>0.093705</td>\n",
       "      <td>-0.153794</td>\n",
       "      <td>-0.113181</td>\n",
       "      <td>0.668047</td>\n",
       "      <td>-0.682978</td>\n",
       "      <td>0.183006</td>\n",
       "      <td>-0.061668</td>\n",
       "      <td>0.124052</td>\n",
       "    </tr>\n",
       "    <tr>\n",
       "      <th>volatile acidity</th>\n",
       "      <td>-0.256131</td>\n",
       "      <td>1.000000</td>\n",
       "      <td>-0.552496</td>\n",
       "      <td>0.001918</td>\n",
       "      <td>0.061298</td>\n",
       "      <td>-0.010504</td>\n",
       "      <td>0.076470</td>\n",
       "      <td>0.022026</td>\n",
       "      <td>0.234937</td>\n",
       "      <td>-0.260987</td>\n",
       "      <td>-0.202288</td>\n",
       "      <td>-0.390558</td>\n",
       "    </tr>\n",
       "    <tr>\n",
       "      <th>citric acid</th>\n",
       "      <td>0.671703</td>\n",
       "      <td>-0.552496</td>\n",
       "      <td>1.000000</td>\n",
       "      <td>0.143577</td>\n",
       "      <td>0.203823</td>\n",
       "      <td>-0.060978</td>\n",
       "      <td>0.035533</td>\n",
       "      <td>0.364947</td>\n",
       "      <td>-0.541904</td>\n",
       "      <td>0.312770</td>\n",
       "      <td>0.109903</td>\n",
       "      <td>0.226373</td>\n",
       "    </tr>\n",
       "    <tr>\n",
       "      <th>residual sugar</th>\n",
       "      <td>0.114777</td>\n",
       "      <td>0.001918</td>\n",
       "      <td>0.143577</td>\n",
       "      <td>1.000000</td>\n",
       "      <td>0.055610</td>\n",
       "      <td>0.187049</td>\n",
       "      <td>0.203028</td>\n",
       "      <td>0.355283</td>\n",
       "      <td>-0.085652</td>\n",
       "      <td>0.005527</td>\n",
       "      <td>0.042075</td>\n",
       "      <td>0.013732</td>\n",
       "    </tr>\n",
       "    <tr>\n",
       "      <th>chlorides</th>\n",
       "      <td>0.093705</td>\n",
       "      <td>0.061298</td>\n",
       "      <td>0.203823</td>\n",
       "      <td>0.055610</td>\n",
       "      <td>1.000000</td>\n",
       "      <td>0.005562</td>\n",
       "      <td>0.047400</td>\n",
       "      <td>0.200632</td>\n",
       "      <td>-0.265026</td>\n",
       "      <td>0.371260</td>\n",
       "      <td>-0.221141</td>\n",
       "      <td>-0.128907</td>\n",
       "    </tr>\n",
       "    <tr>\n",
       "      <th>free sulfur dioxide</th>\n",
       "      <td>-0.153794</td>\n",
       "      <td>-0.010504</td>\n",
       "      <td>-0.060978</td>\n",
       "      <td>0.187049</td>\n",
       "      <td>0.005562</td>\n",
       "      <td>1.000000</td>\n",
       "      <td>0.667666</td>\n",
       "      <td>-0.021946</td>\n",
       "      <td>0.070377</td>\n",
       "      <td>0.051658</td>\n",
       "      <td>-0.069408</td>\n",
       "      <td>-0.050656</td>\n",
       "    </tr>\n",
       "    <tr>\n",
       "      <th>total sulfur dioxide</th>\n",
       "      <td>-0.113181</td>\n",
       "      <td>0.076470</td>\n",
       "      <td>0.035533</td>\n",
       "      <td>0.203028</td>\n",
       "      <td>0.047400</td>\n",
       "      <td>0.667666</td>\n",
       "      <td>1.000000</td>\n",
       "      <td>0.071269</td>\n",
       "      <td>-0.066495</td>\n",
       "      <td>0.042947</td>\n",
       "      <td>-0.205654</td>\n",
       "      <td>-0.185100</td>\n",
       "    </tr>\n",
       "    <tr>\n",
       "      <th>density</th>\n",
       "      <td>0.668047</td>\n",
       "      <td>0.022026</td>\n",
       "      <td>0.364947</td>\n",
       "      <td>0.355283</td>\n",
       "      <td>0.200632</td>\n",
       "      <td>-0.021946</td>\n",
       "      <td>0.071269</td>\n",
       "      <td>1.000000</td>\n",
       "      <td>-0.341699</td>\n",
       "      <td>0.148506</td>\n",
       "      <td>-0.496180</td>\n",
       "      <td>-0.174919</td>\n",
       "    </tr>\n",
       "    <tr>\n",
       "      <th>pH</th>\n",
       "      <td>-0.682978</td>\n",
       "      <td>0.234937</td>\n",
       "      <td>-0.541904</td>\n",
       "      <td>-0.085652</td>\n",
       "      <td>-0.265026</td>\n",
       "      <td>0.070377</td>\n",
       "      <td>-0.066495</td>\n",
       "      <td>-0.341699</td>\n",
       "      <td>1.000000</td>\n",
       "      <td>-0.196648</td>\n",
       "      <td>0.205633</td>\n",
       "      <td>-0.057731</td>\n",
       "    </tr>\n",
       "    <tr>\n",
       "      <th>sulphates</th>\n",
       "      <td>0.183006</td>\n",
       "      <td>-0.260987</td>\n",
       "      <td>0.312770</td>\n",
       "      <td>0.005527</td>\n",
       "      <td>0.371260</td>\n",
       "      <td>0.051658</td>\n",
       "      <td>0.042947</td>\n",
       "      <td>0.148506</td>\n",
       "      <td>-0.196648</td>\n",
       "      <td>1.000000</td>\n",
       "      <td>0.093595</td>\n",
       "      <td>0.251397</td>\n",
       "    </tr>\n",
       "    <tr>\n",
       "      <th>alcohol</th>\n",
       "      <td>-0.061668</td>\n",
       "      <td>-0.202288</td>\n",
       "      <td>0.109903</td>\n",
       "      <td>0.042075</td>\n",
       "      <td>-0.221141</td>\n",
       "      <td>-0.069408</td>\n",
       "      <td>-0.205654</td>\n",
       "      <td>-0.496180</td>\n",
       "      <td>0.205633</td>\n",
       "      <td>0.093595</td>\n",
       "      <td>1.000000</td>\n",
       "      <td>0.476166</td>\n",
       "    </tr>\n",
       "    <tr>\n",
       "      <th>quality</th>\n",
       "      <td>0.124052</td>\n",
       "      <td>-0.390558</td>\n",
       "      <td>0.226373</td>\n",
       "      <td>0.013732</td>\n",
       "      <td>-0.128907</td>\n",
       "      <td>-0.050656</td>\n",
       "      <td>-0.185100</td>\n",
       "      <td>-0.174919</td>\n",
       "      <td>-0.057731</td>\n",
       "      <td>0.251397</td>\n",
       "      <td>0.476166</td>\n",
       "      <td>1.000000</td>\n",
       "    </tr>\n",
       "  </tbody>\n",
       "</table>\n",
       "</div>"
      ],
      "text/plain": [
       "                      fixed acidity  volatile acidity  citric acid  \\\n",
       "fixed acidity              1.000000         -0.256131     0.671703   \n",
       "volatile acidity          -0.256131          1.000000    -0.552496   \n",
       "citric acid                0.671703         -0.552496     1.000000   \n",
       "residual sugar             0.114777          0.001918     0.143577   \n",
       "chlorides                  0.093705          0.061298     0.203823   \n",
       "free sulfur dioxide       -0.153794         -0.010504    -0.060978   \n",
       "total sulfur dioxide      -0.113181          0.076470     0.035533   \n",
       "density                    0.668047          0.022026     0.364947   \n",
       "pH                        -0.682978          0.234937    -0.541904   \n",
       "sulphates                  0.183006         -0.260987     0.312770   \n",
       "alcohol                   -0.061668         -0.202288     0.109903   \n",
       "quality                    0.124052         -0.390558     0.226373   \n",
       "\n",
       "                      residual sugar  chlorides  free sulfur dioxide  \\\n",
       "fixed acidity               0.114777   0.093705            -0.153794   \n",
       "volatile acidity            0.001918   0.061298            -0.010504   \n",
       "citric acid                 0.143577   0.203823            -0.060978   \n",
       "residual sugar              1.000000   0.055610             0.187049   \n",
       "chlorides                   0.055610   1.000000             0.005562   \n",
       "free sulfur dioxide         0.187049   0.005562             1.000000   \n",
       "total sulfur dioxide        0.203028   0.047400             0.667666   \n",
       "density                     0.355283   0.200632            -0.021946   \n",
       "pH                         -0.085652  -0.265026             0.070377   \n",
       "sulphates                   0.005527   0.371260             0.051658   \n",
       "alcohol                     0.042075  -0.221141            -0.069408   \n",
       "quality                     0.013732  -0.128907            -0.050656   \n",
       "\n",
       "                      total sulfur dioxide   density        pH  sulphates  \\\n",
       "fixed acidity                    -0.113181  0.668047 -0.682978   0.183006   \n",
       "volatile acidity                  0.076470  0.022026  0.234937  -0.260987   \n",
       "citric acid                       0.035533  0.364947 -0.541904   0.312770   \n",
       "residual sugar                    0.203028  0.355283 -0.085652   0.005527   \n",
       "chlorides                         0.047400  0.200632 -0.265026   0.371260   \n",
       "free sulfur dioxide               0.667666 -0.021946  0.070377   0.051658   \n",
       "total sulfur dioxide              1.000000  0.071269 -0.066495   0.042947   \n",
       "density                           0.071269  1.000000 -0.341699   0.148506   \n",
       "pH                               -0.066495 -0.341699  1.000000  -0.196648   \n",
       "sulphates                         0.042947  0.148506 -0.196648   1.000000   \n",
       "alcohol                          -0.205654 -0.496180  0.205633   0.093595   \n",
       "quality                          -0.185100 -0.174919 -0.057731   0.251397   \n",
       "\n",
       "                       alcohol   quality  \n",
       "fixed acidity        -0.061668  0.124052  \n",
       "volatile acidity     -0.202288 -0.390558  \n",
       "citric acid           0.109903  0.226373  \n",
       "residual sugar        0.042075  0.013732  \n",
       "chlorides            -0.221141 -0.128907  \n",
       "free sulfur dioxide  -0.069408 -0.050656  \n",
       "total sulfur dioxide -0.205654 -0.185100  \n",
       "density              -0.496180 -0.174919  \n",
       "pH                    0.205633 -0.057731  \n",
       "sulphates             0.093595  0.251397  \n",
       "alcohol               1.000000  0.476166  \n",
       "quality               0.476166  1.000000  "
      ]
     },
     "execution_count": 166,
     "metadata": {},
     "output_type": "execute_result"
    },
    {
     "data": {
      "image/png": "[encoded data removed]",
      "text/plain": [
       "<Figure size 1080x720 with 2 Axes>"
      ]
     },
     "metadata": {
      "needs_background": "light"
     },
     "output_type": "display_data"
    }
   ],
   "source": [
    "corr = wine_df.corr()\n",
    "plt.pyplot.subplots(figsize=(15,10))\n",
    "sns.heatmap(corr, xticklabels=corr.columns, yticklabels=corr.columns, annot=True, cmap=sns.diverging_palette(220, 20, as_cmap=True))\n",
    "corr"
   ]
  },
  {
   "cell_type": "code",
   "execution_count": 163,
   "id": "e73ebc93",
   "metadata": {},
   "outputs": [
    {
     "data": {
      "text/plain": [
       "array([[  0,   0,   2,   0,   0,   0],\n",
       "       [  0,   1,  10,   9,   1,   0],\n",
       "       [  0,   0, 158,  47,   2,   0],\n",
       "       [  0,   0,  70, 109,  16,   0],\n",
       "       [  0,   0,   4,  33,  15,   0],\n",
       "       [  0,   0,   0,   1,   2,   0]], dtype=int64)"
      ]
     },
     "execution_count": 163,
     "metadata": {},
     "output_type": "execute_result"
    }
   ],
   "source": [
    "from sklearn.metrics import confusion_matrix\n",
    "pred_predict = pipe.predict(X_test)\n",
    "confusion_matrix = confusion_matrix(y_test, pred_predict)\n",
    "confusion_matrix\n"
   ]
  },
  {
   "cell_type": "code",
   "execution_count": 169,
   "id": "11725e43",
   "metadata": {},
   "outputs": [
    {
     "data": {
      "text/plain": [
       "Text(69.0, 0.5, 'Truth')"
      ]
     },
     "execution_count": 169,
     "metadata": {},
     "output_type": "execute_result"
    },
    {
     "data": {
      "image/png": "[encoded data removed]",
      "text/plain": [
       "<Figure size 720x504 with 2 Axes>"
      ]
     },
     "metadata": {
      "needs_background": "light"
     },
     "output_type": "display_data"
    }
   ],
   "source": [
    "# import seaborn as sn\n",
    "# plt.figure(figsize = (10,7))\n",
    "# sn.heatmap(confusion_matrix, annot=True)\n",
    "# plt.xlabel('Predicted')\n",
    "# plt.ylabel('Truth') \n",
    "\n",
    "import matplotlib.pyplot as plt\n",
    "import seaborn as sns\n",
    "plt.figure(figsize = (10,7))\n",
    "sns.heatmap(confusion_matrix, annot=True)\n",
    "plt.xlabel('Predicted')\n",
    "plt.ylabel('Truth')\n"
   ]
  },
  {
   "cell_type": "markdown",
   "id": "temporal-horizon",
   "metadata": {},
   "source": [
    "Try different pair of data sets: (pH, goodquality), (fixed acidity, goodquality), (alcohol, goodquality) \n",
    "\n",
    "Which pair performs better?"
   ]
  },
  {
   "cell_type": "code",
   "execution_count": null,
   "id": "742026ea",
   "metadata": {},
   "outputs": [],
   "source": [
    "sns.regplot(x='alcohol', y='goodquality', data=wine.df, logistic=true)\n"
   ]
  },
  {
   "cell_type": "code",
   "execution_count": null,
   "id": "trained-shepherd",
   "metadata": {},
   "outputs": [],
   "source": [
    "\n"
   ]
  },
  {
   "cell_type": "markdown",
   "id": "pregnant-american",
   "metadata": {},
   "source": [
    "## Multi logistic regression"
   ]
  },
  {
   "cell_type": "markdown",
   "id": "agreed-citizen",
   "metadata": {},
   "source": [
    "Add new features to the model, try to find the best model reducing the error. \n",
    "\n",
    "Use everything you learned so far and good luck :)"
   ]
  },
  {
   "cell_type": "code",
   "execution_count": null,
   "id": "sudden-ethnic",
   "metadata": {},
   "outputs": [],
   "source": []
  },
  {
   "cell_type": "code",
   "execution_count": null,
   "id": "87ffcfcd",
   "metadata": {},
   "outputs": [],
   "source": []
  },
  {
   "cell_type": "code",
   "execution_count": null,
   "id": "fbe2e01d",
   "metadata": {},
   "outputs": [],
   "source": []
  }
 ],
 "metadata": {
  "kernelspec": {
   "display_name": "Python 3",
   "language": "python",
   "name": "python3"
  },
  "language_info": {
   "codemirror_mode": {
    "name": "ipython",
    "version": 3
   },
   "file_extension": ".py",
   "mimetype": "text/x-python",
   "name": "python",
   "nbconvert_exporter": "python",
   "pygments_lexer": "ipython3",
   "version": "3.8.8"
  },
  "toc": {
   "base_numbering": 1,
   "nav_menu": {},
   "number_sections": true,
   "sideBar": true,
   "skip_h1_title": false,
   "title_cell": "Table of Contents",
   "title_sidebar": "Contents",
   "toc_cell": false,
   "toc_position": {},
   "toc_section_display": true,
   "toc_window_display": false
  },
  "varInspector": {
   "cols": {
    "lenName": 16,
    "lenType": 16,
    "lenVar": 40
   },
   "kernels_config": {
    "python": {
     "delete_cmd_postfix": "",
     "delete_cmd_prefix": "del ",
     "library": "var_list.py",
     "varRefreshCmd": "print(var_dic_list())"
    },
    "r": {
     "delete_cmd_postfix": ") ",
     "delete_cmd_prefix": "rm(",
     "library": "var_list.r",
     "varRefreshCmd": "cat(var_dic_list()) "
    }
   },
   "types_to_exclude": [
    "module",
    "function",
    "builtin_function_or_method",
    "instance",
    "_Feature"
   ],
   "window_display": false
  }
 },
 "nbformat": 4,
 "nbformat_minor": 5
}
